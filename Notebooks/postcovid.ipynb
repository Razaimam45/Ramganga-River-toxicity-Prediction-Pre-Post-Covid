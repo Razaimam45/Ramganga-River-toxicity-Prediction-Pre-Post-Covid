{
 "cells": [
  {
   "cell_type": "code",
   "execution_count": 2,
   "id": "2063ca3e",
   "metadata": {},
   "outputs": [],
   "source": [
    "import xgboost as xgb\n",
    "from sklearn.linear_model import LogisticRegression\n",
    "from sklearn.svm import SVC\n",
    "from sklearn.tree import DecisionTreeClassifier\n",
    "from sklearn.ensemble import RandomForestClassifier\n",
    "from sklearn.naive_bayes import GaussianNB, MultinomialNB\n",
    "from sklearn.linear_model import RidgeClassifier\n",
    "from lightgbm import LGBMClassifier\n",
    "\n",
    "import pandas as pd\n",
    "from sklearn.model_selection import train_test_split\n",
    "from sklearn.metrics import r2_score, auc\n",
    "import numpy as np\n",
    "from sklearn.model_selection import cross_val_score\n",
    "import time as time\n",
    "import joblib"
   ]
  },
  {
   "cell_type": "code",
   "execution_count": 12,
   "id": "688bec85",
   "metadata": {},
   "outputs": [
    {
     "data": {
      "text/plain": [
       "Unnamed: 0      int64\n",
       "location       object\n",
       "As            float64\n",
       "Cd            float64\n",
       "Ni            float64\n",
       "Fe            float64\n",
       "Pb            float64\n",
       "Zn            float64\n",
       "dtype: object"
      ]
     },
     "execution_count": 12,
     "metadata": {},
     "output_type": "execute_result"
    }
   ],
   "source": [
    "df = pd.read_csv('postcovid.csv')\n",
    "df.dtypes"
   ]
  },
  {
   "cell_type": "code",
   "execution_count": 13,
   "id": "4207bff4",
   "metadata": {},
   "outputs": [
    {
     "data": {
      "text/plain": [
       "Index([], dtype='object')"
      ]
     },
     "execution_count": 13,
     "metadata": {},
     "output_type": "execute_result"
    }
   ],
   "source": [
    "df.columns[df.isna().any()]"
   ]
  },
  {
   "cell_type": "markdown",
   "id": "9b038ba6",
   "metadata": {},
   "source": [
    "##### Label Encoding"
   ]
  },
  {
   "cell_type": "code",
   "execution_count": 14,
   "id": "82b8e211",
   "metadata": {},
   "outputs": [
    {
     "data": {
      "text/html": [
       "<div>\n",
       "<style scoped>\n",
       "    .dataframe tbody tr th:only-of-type {\n",
       "        vertical-align: middle;\n",
       "    }\n",
       "\n",
       "    .dataframe tbody tr th {\n",
       "        vertical-align: top;\n",
       "    }\n",
       "\n",
       "    .dataframe thead th {\n",
       "        text-align: right;\n",
       "    }\n",
       "</style>\n",
       "<table border=\"1\" class=\"dataframe\">\n",
       "  <thead>\n",
       "    <tr style=\"text-align: right;\">\n",
       "      <th></th>\n",
       "      <th>Unnamed: 0</th>\n",
       "      <th>location</th>\n",
       "      <th>As</th>\n",
       "      <th>Cd</th>\n",
       "      <th>Ni</th>\n",
       "      <th>Fe</th>\n",
       "      <th>Pb</th>\n",
       "      <th>Zn</th>\n",
       "    </tr>\n",
       "  </thead>\n",
       "  <tbody>\n",
       "    <tr>\n",
       "      <th>0</th>\n",
       "      <td>0</td>\n",
       "      <td>ramganga_river</td>\n",
       "      <td>0.00167</td>\n",
       "      <td>0.029000</td>\n",
       "      <td>0.120000</td>\n",
       "      <td>1.900000</td>\n",
       "      <td>0.000000</td>\n",
       "      <td>1.420000</td>\n",
       "    </tr>\n",
       "    <tr>\n",
       "      <th>1</th>\n",
       "      <td>1</td>\n",
       "      <td>katghar_handpump</td>\n",
       "      <td>0.00254</td>\n",
       "      <td>0.049000</td>\n",
       "      <td>0.080000</td>\n",
       "      <td>0.320000</td>\n",
       "      <td>0.000000</td>\n",
       "      <td>0.632000</td>\n",
       "    </tr>\n",
       "    <tr>\n",
       "      <th>2</th>\n",
       "      <td>2</td>\n",
       "      <td>kunwar_saheb_lane</td>\n",
       "      <td>0.00392</td>\n",
       "      <td>0.078000</td>\n",
       "      <td>0.190000</td>\n",
       "      <td>1.200000</td>\n",
       "      <td>0.045000</td>\n",
       "      <td>2.700000</td>\n",
       "    </tr>\n",
       "    <tr>\n",
       "      <th>3</th>\n",
       "      <td>3</td>\n",
       "      <td>ramganga</td>\n",
       "      <td>0.00704</td>\n",
       "      <td>0.105000</td>\n",
       "      <td>0.090000</td>\n",
       "      <td>2.000000</td>\n",
       "      <td>0.589600</td>\n",
       "      <td>0.500000</td>\n",
       "    </tr>\n",
       "    <tr>\n",
       "      <th>4</th>\n",
       "      <td>4</td>\n",
       "      <td>near_ramganga_handpump</td>\n",
       "      <td>0.00905</td>\n",
       "      <td>0.132000</td>\n",
       "      <td>0.070000</td>\n",
       "      <td>1.200000</td>\n",
       "      <td>0.792000</td>\n",
       "      <td>1.550000</td>\n",
       "    </tr>\n",
       "    <tr>\n",
       "      <th>...</th>\n",
       "      <td>...</td>\n",
       "      <td>...</td>\n",
       "      <td>...</td>\n",
       "      <td>...</td>\n",
       "      <td>...</td>\n",
       "      <td>...</td>\n",
       "      <td>...</td>\n",
       "      <td>...</td>\n",
       "    </tr>\n",
       "    <tr>\n",
       "      <th>157</th>\n",
       "      <td>157</td>\n",
       "      <td>warsi_nagar21</td>\n",
       "      <td>0.01580</td>\n",
       "      <td>0.030359</td>\n",
       "      <td>0.072439</td>\n",
       "      <td>0.270531</td>\n",
       "      <td>0.010781</td>\n",
       "      <td>1.017052</td>\n",
       "    </tr>\n",
       "    <tr>\n",
       "      <th>158</th>\n",
       "      <td>158</td>\n",
       "      <td>warsi_nagar22</td>\n",
       "      <td>0.01590</td>\n",
       "      <td>0.029162</td>\n",
       "      <td>0.076563</td>\n",
       "      <td>0.312961</td>\n",
       "      <td>0.010431</td>\n",
       "      <td>0.989028</td>\n",
       "    </tr>\n",
       "    <tr>\n",
       "      <th>159</th>\n",
       "      <td>159</td>\n",
       "      <td>warsi_nagar23</td>\n",
       "      <td>0.01600</td>\n",
       "      <td>0.030312</td>\n",
       "      <td>0.072576</td>\n",
       "      <td>0.298951</td>\n",
       "      <td>0.010882</td>\n",
       "      <td>0.954478</td>\n",
       "    </tr>\n",
       "    <tr>\n",
       "      <th>160</th>\n",
       "      <td>160</td>\n",
       "      <td>warsi_nagar24</td>\n",
       "      <td>0.01610</td>\n",
       "      <td>0.032039</td>\n",
       "      <td>0.074604</td>\n",
       "      <td>0.274217</td>\n",
       "      <td>0.009732</td>\n",
       "      <td>1.031351</td>\n",
       "    </tr>\n",
       "    <tr>\n",
       "      <th>161</th>\n",
       "      <td>161</td>\n",
       "      <td>warsi_nagar25</td>\n",
       "      <td>0.01620</td>\n",
       "      <td>0.027621</td>\n",
       "      <td>0.073325</td>\n",
       "      <td>0.271191</td>\n",
       "      <td>0.009835</td>\n",
       "      <td>1.086474</td>\n",
       "    </tr>\n",
       "  </tbody>\n",
       "</table>\n",
       "<p>162 rows × 8 columns</p>\n",
       "</div>"
      ],
      "text/plain": [
       "     Unnamed: 0                location       As        Cd        Ni  \\\n",
       "0             0          ramganga_river  0.00167  0.029000  0.120000   \n",
       "1             1        katghar_handpump  0.00254  0.049000  0.080000   \n",
       "2             2       kunwar_saheb_lane  0.00392  0.078000  0.190000   \n",
       "3             3                ramganga  0.00704  0.105000  0.090000   \n",
       "4             4  near_ramganga_handpump  0.00905  0.132000  0.070000   \n",
       "..          ...                     ...      ...       ...       ...   \n",
       "157         157           warsi_nagar21  0.01580  0.030359  0.072439   \n",
       "158         158           warsi_nagar22  0.01590  0.029162  0.076563   \n",
       "159         159           warsi_nagar23  0.01600  0.030312  0.072576   \n",
       "160         160           warsi_nagar24  0.01610  0.032039  0.074604   \n",
       "161         161           warsi_nagar25  0.01620  0.027621  0.073325   \n",
       "\n",
       "           Fe        Pb        Zn  \n",
       "0    1.900000  0.000000  1.420000  \n",
       "1    0.320000  0.000000  0.632000  \n",
       "2    1.200000  0.045000  2.700000  \n",
       "3    2.000000  0.589600  0.500000  \n",
       "4    1.200000  0.792000  1.550000  \n",
       "..        ...       ...       ...  \n",
       "157  0.270531  0.010781  1.017052  \n",
       "158  0.312961  0.010431  0.989028  \n",
       "159  0.298951  0.010882  0.954478  \n",
       "160  0.274217  0.009732  1.031351  \n",
       "161  0.271191  0.009835  1.086474  \n",
       "\n",
       "[162 rows x 8 columns]"
      ]
     },
     "execution_count": 14,
     "metadata": {},
     "output_type": "execute_result"
    }
   ],
   "source": [
    "df"
   ]
  },
  {
   "cell_type": "code",
   "execution_count": 15,
   "id": "e05357f8",
   "metadata": {},
   "outputs": [
    {
     "data": {
      "text/plain": [
       "162"
      ]
     },
     "execution_count": 15,
     "metadata": {},
     "output_type": "execute_result"
    }
   ],
   "source": [
    "len(df['location'].unique())"
   ]
  },
  {
   "cell_type": "code",
   "execution_count": 16,
   "id": "f4366912",
   "metadata": {},
   "outputs": [
    {
     "data": {
      "text/plain": [
       "(162, 8)"
      ]
     },
     "execution_count": 16,
     "metadata": {},
     "output_type": "execute_result"
    }
   ],
   "source": [
    "df.shape"
   ]
  },
  {
   "cell_type": "code",
   "execution_count": 17,
   "id": "9b74c28e",
   "metadata": {},
   "outputs": [
    {
     "data": {
      "text/html": [
       "<div>\n",
       "<style scoped>\n",
       "    .dataframe tbody tr th:only-of-type {\n",
       "        vertical-align: middle;\n",
       "    }\n",
       "\n",
       "    .dataframe tbody tr th {\n",
       "        vertical-align: top;\n",
       "    }\n",
       "\n",
       "    .dataframe thead th {\n",
       "        text-align: right;\n",
       "    }\n",
       "</style>\n",
       "<table border=\"1\" class=\"dataframe\">\n",
       "  <thead>\n",
       "    <tr style=\"text-align: right;\">\n",
       "      <th></th>\n",
       "      <th>As</th>\n",
       "      <th>Cd</th>\n",
       "      <th>Ni</th>\n",
       "      <th>Fe</th>\n",
       "      <th>Pb</th>\n",
       "      <th>Zn</th>\n",
       "    </tr>\n",
       "  </thead>\n",
       "  <tbody>\n",
       "    <tr>\n",
       "      <th>0</th>\n",
       "      <td>0.00167</td>\n",
       "      <td>0.029000</td>\n",
       "      <td>0.120000</td>\n",
       "      <td>1.900000</td>\n",
       "      <td>0.000000</td>\n",
       "      <td>1.420000</td>\n",
       "    </tr>\n",
       "    <tr>\n",
       "      <th>1</th>\n",
       "      <td>0.00254</td>\n",
       "      <td>0.049000</td>\n",
       "      <td>0.080000</td>\n",
       "      <td>0.320000</td>\n",
       "      <td>0.000000</td>\n",
       "      <td>0.632000</td>\n",
       "    </tr>\n",
       "    <tr>\n",
       "      <th>2</th>\n",
       "      <td>0.00392</td>\n",
       "      <td>0.078000</td>\n",
       "      <td>0.190000</td>\n",
       "      <td>1.200000</td>\n",
       "      <td>0.045000</td>\n",
       "      <td>2.700000</td>\n",
       "    </tr>\n",
       "    <tr>\n",
       "      <th>3</th>\n",
       "      <td>0.00704</td>\n",
       "      <td>0.105000</td>\n",
       "      <td>0.090000</td>\n",
       "      <td>2.000000</td>\n",
       "      <td>0.589600</td>\n",
       "      <td>0.500000</td>\n",
       "    </tr>\n",
       "    <tr>\n",
       "      <th>4</th>\n",
       "      <td>0.00905</td>\n",
       "      <td>0.132000</td>\n",
       "      <td>0.070000</td>\n",
       "      <td>1.200000</td>\n",
       "      <td>0.792000</td>\n",
       "      <td>1.550000</td>\n",
       "    </tr>\n",
       "    <tr>\n",
       "      <th>...</th>\n",
       "      <td>...</td>\n",
       "      <td>...</td>\n",
       "      <td>...</td>\n",
       "      <td>...</td>\n",
       "      <td>...</td>\n",
       "      <td>...</td>\n",
       "    </tr>\n",
       "    <tr>\n",
       "      <th>157</th>\n",
       "      <td>0.01580</td>\n",
       "      <td>0.030359</td>\n",
       "      <td>0.072439</td>\n",
       "      <td>0.270531</td>\n",
       "      <td>0.010781</td>\n",
       "      <td>1.017052</td>\n",
       "    </tr>\n",
       "    <tr>\n",
       "      <th>158</th>\n",
       "      <td>0.01590</td>\n",
       "      <td>0.029162</td>\n",
       "      <td>0.076563</td>\n",
       "      <td>0.312961</td>\n",
       "      <td>0.010431</td>\n",
       "      <td>0.989028</td>\n",
       "    </tr>\n",
       "    <tr>\n",
       "      <th>159</th>\n",
       "      <td>0.01600</td>\n",
       "      <td>0.030312</td>\n",
       "      <td>0.072576</td>\n",
       "      <td>0.298951</td>\n",
       "      <td>0.010882</td>\n",
       "      <td>0.954478</td>\n",
       "    </tr>\n",
       "    <tr>\n",
       "      <th>160</th>\n",
       "      <td>0.01610</td>\n",
       "      <td>0.032039</td>\n",
       "      <td>0.074604</td>\n",
       "      <td>0.274217</td>\n",
       "      <td>0.009732</td>\n",
       "      <td>1.031351</td>\n",
       "    </tr>\n",
       "    <tr>\n",
       "      <th>161</th>\n",
       "      <td>0.01620</td>\n",
       "      <td>0.027621</td>\n",
       "      <td>0.073325</td>\n",
       "      <td>0.271191</td>\n",
       "      <td>0.009835</td>\n",
       "      <td>1.086474</td>\n",
       "    </tr>\n",
       "  </tbody>\n",
       "</table>\n",
       "<p>162 rows × 6 columns</p>\n",
       "</div>"
      ],
      "text/plain": [
       "          As        Cd        Ni        Fe        Pb        Zn\n",
       "0    0.00167  0.029000  0.120000  1.900000  0.000000  1.420000\n",
       "1    0.00254  0.049000  0.080000  0.320000  0.000000  0.632000\n",
       "2    0.00392  0.078000  0.190000  1.200000  0.045000  2.700000\n",
       "3    0.00704  0.105000  0.090000  2.000000  0.589600  0.500000\n",
       "4    0.00905  0.132000  0.070000  1.200000  0.792000  1.550000\n",
       "..       ...       ...       ...       ...       ...       ...\n",
       "157  0.01580  0.030359  0.072439  0.270531  0.010781  1.017052\n",
       "158  0.01590  0.029162  0.076563  0.312961  0.010431  0.989028\n",
       "159  0.01600  0.030312  0.072576  0.298951  0.010882  0.954478\n",
       "160  0.01610  0.032039  0.074604  0.274217  0.009732  1.031351\n",
       "161  0.01620  0.027621  0.073325  0.271191  0.009835  1.086474\n",
       "\n",
       "[162 rows x 6 columns]"
      ]
     },
     "execution_count": 17,
     "metadata": {},
     "output_type": "execute_result"
    }
   ],
   "source": [
    "df.drop(['Unnamed: 0','location'], axis=True, inplace=True)\n",
    "df"
   ]
  },
  {
   "cell_type": "code",
   "execution_count": 18,
   "id": "08719cca",
   "metadata": {},
   "outputs": [],
   "source": [
    "# df.drop(['S. No.','River','As','Toxicity'], axis=True, inplace=True)\n",
    "# df"
   ]
  },
  {
   "cell_type": "code",
   "execution_count": 19,
   "id": "037ecdf3",
   "metadata": {},
   "outputs": [],
   "source": [
    "features = df\n",
    "# labels = df['Toxicity']"
   ]
  },
  {
   "cell_type": "code",
   "execution_count": 20,
   "id": "e490a354",
   "metadata": {},
   "outputs": [
    {
     "data": {
      "text/html": [
       "<div>\n",
       "<style scoped>\n",
       "    .dataframe tbody tr th:only-of-type {\n",
       "        vertical-align: middle;\n",
       "    }\n",
       "\n",
       "    .dataframe tbody tr th {\n",
       "        vertical-align: top;\n",
       "    }\n",
       "\n",
       "    .dataframe thead th {\n",
       "        text-align: right;\n",
       "    }\n",
       "</style>\n",
       "<table border=\"1\" class=\"dataframe\">\n",
       "  <thead>\n",
       "    <tr style=\"text-align: right;\">\n",
       "      <th></th>\n",
       "      <th>As</th>\n",
       "      <th>Cd</th>\n",
       "      <th>Ni</th>\n",
       "      <th>Fe</th>\n",
       "      <th>Pb</th>\n",
       "      <th>Zn</th>\n",
       "    </tr>\n",
       "  </thead>\n",
       "  <tbody>\n",
       "    <tr>\n",
       "      <th>0</th>\n",
       "      <td>0.00167</td>\n",
       "      <td>0.029000</td>\n",
       "      <td>0.120000</td>\n",
       "      <td>1.900000</td>\n",
       "      <td>0.000000</td>\n",
       "      <td>1.420000</td>\n",
       "    </tr>\n",
       "    <tr>\n",
       "      <th>1</th>\n",
       "      <td>0.00254</td>\n",
       "      <td>0.049000</td>\n",
       "      <td>0.080000</td>\n",
       "      <td>0.320000</td>\n",
       "      <td>0.000000</td>\n",
       "      <td>0.632000</td>\n",
       "    </tr>\n",
       "    <tr>\n",
       "      <th>2</th>\n",
       "      <td>0.00392</td>\n",
       "      <td>0.078000</td>\n",
       "      <td>0.190000</td>\n",
       "      <td>1.200000</td>\n",
       "      <td>0.045000</td>\n",
       "      <td>2.700000</td>\n",
       "    </tr>\n",
       "    <tr>\n",
       "      <th>3</th>\n",
       "      <td>0.00704</td>\n",
       "      <td>0.105000</td>\n",
       "      <td>0.090000</td>\n",
       "      <td>2.000000</td>\n",
       "      <td>0.589600</td>\n",
       "      <td>0.500000</td>\n",
       "    </tr>\n",
       "    <tr>\n",
       "      <th>4</th>\n",
       "      <td>0.00905</td>\n",
       "      <td>0.132000</td>\n",
       "      <td>0.070000</td>\n",
       "      <td>1.200000</td>\n",
       "      <td>0.792000</td>\n",
       "      <td>1.550000</td>\n",
       "    </tr>\n",
       "    <tr>\n",
       "      <th>...</th>\n",
       "      <td>...</td>\n",
       "      <td>...</td>\n",
       "      <td>...</td>\n",
       "      <td>...</td>\n",
       "      <td>...</td>\n",
       "      <td>...</td>\n",
       "    </tr>\n",
       "    <tr>\n",
       "      <th>157</th>\n",
       "      <td>0.01580</td>\n",
       "      <td>0.030359</td>\n",
       "      <td>0.072439</td>\n",
       "      <td>0.270531</td>\n",
       "      <td>0.010781</td>\n",
       "      <td>1.017052</td>\n",
       "    </tr>\n",
       "    <tr>\n",
       "      <th>158</th>\n",
       "      <td>0.01590</td>\n",
       "      <td>0.029162</td>\n",
       "      <td>0.076563</td>\n",
       "      <td>0.312961</td>\n",
       "      <td>0.010431</td>\n",
       "      <td>0.989028</td>\n",
       "    </tr>\n",
       "    <tr>\n",
       "      <th>159</th>\n",
       "      <td>0.01600</td>\n",
       "      <td>0.030312</td>\n",
       "      <td>0.072576</td>\n",
       "      <td>0.298951</td>\n",
       "      <td>0.010882</td>\n",
       "      <td>0.954478</td>\n",
       "    </tr>\n",
       "    <tr>\n",
       "      <th>160</th>\n",
       "      <td>0.01610</td>\n",
       "      <td>0.032039</td>\n",
       "      <td>0.074604</td>\n",
       "      <td>0.274217</td>\n",
       "      <td>0.009732</td>\n",
       "      <td>1.031351</td>\n",
       "    </tr>\n",
       "    <tr>\n",
       "      <th>161</th>\n",
       "      <td>0.01620</td>\n",
       "      <td>0.027621</td>\n",
       "      <td>0.073325</td>\n",
       "      <td>0.271191</td>\n",
       "      <td>0.009835</td>\n",
       "      <td>1.086474</td>\n",
       "    </tr>\n",
       "  </tbody>\n",
       "</table>\n",
       "<p>162 rows × 6 columns</p>\n",
       "</div>"
      ],
      "text/plain": [
       "          As        Cd        Ni        Fe        Pb        Zn\n",
       "0    0.00167  0.029000  0.120000  1.900000  0.000000  1.420000\n",
       "1    0.00254  0.049000  0.080000  0.320000  0.000000  0.632000\n",
       "2    0.00392  0.078000  0.190000  1.200000  0.045000  2.700000\n",
       "3    0.00704  0.105000  0.090000  2.000000  0.589600  0.500000\n",
       "4    0.00905  0.132000  0.070000  1.200000  0.792000  1.550000\n",
       "..       ...       ...       ...       ...       ...       ...\n",
       "157  0.01580  0.030359  0.072439  0.270531  0.010781  1.017052\n",
       "158  0.01590  0.029162  0.076563  0.312961  0.010431  0.989028\n",
       "159  0.01600  0.030312  0.072576  0.298951  0.010882  0.954478\n",
       "160  0.01610  0.032039  0.074604  0.274217  0.009732  1.031351\n",
       "161  0.01620  0.027621  0.073325  0.271191  0.009835  1.086474\n",
       "\n",
       "[162 rows x 6 columns]"
      ]
     },
     "execution_count": 20,
     "metadata": {},
     "output_type": "execute_result"
    }
   ],
   "source": [
    "features"
   ]
  },
  {
   "cell_type": "code",
   "execution_count": 21,
   "id": "d56d07d9",
   "metadata": {},
   "outputs": [
    {
     "data": {
      "text/html": [
       "<div>\n",
       "<style scoped>\n",
       "    .dataframe tbody tr th:only-of-type {\n",
       "        vertical-align: middle;\n",
       "    }\n",
       "\n",
       "    .dataframe tbody tr th {\n",
       "        vertical-align: top;\n",
       "    }\n",
       "\n",
       "    .dataframe thead th {\n",
       "        text-align: right;\n",
       "    }\n",
       "</style>\n",
       "<table border=\"1\" class=\"dataframe\">\n",
       "  <thead>\n",
       "    <tr style=\"text-align: right;\">\n",
       "      <th></th>\n",
       "      <th>As</th>\n",
       "      <th>Cd</th>\n",
       "      <th>Ni</th>\n",
       "      <th>Fe</th>\n",
       "      <th>Pb</th>\n",
       "      <th>Zn</th>\n",
       "    </tr>\n",
       "  </thead>\n",
       "  <tbody>\n",
       "    <tr>\n",
       "      <th>count</th>\n",
       "      <td>162.000000</td>\n",
       "      <td>162.000000</td>\n",
       "      <td>162.000000</td>\n",
       "      <td>162.000000</td>\n",
       "      <td>162.000000</td>\n",
       "      <td>162.000000</td>\n",
       "    </tr>\n",
       "    <tr>\n",
       "      <th>mean</th>\n",
       "      <td>0.008570</td>\n",
       "      <td>0.032517</td>\n",
       "      <td>0.072087</td>\n",
       "      <td>0.332911</td>\n",
       "      <td>0.023369</td>\n",
       "      <td>1.301433</td>\n",
       "    </tr>\n",
       "    <tr>\n",
       "      <th>std</th>\n",
       "      <td>0.004308</td>\n",
       "      <td>0.015767</td>\n",
       "      <td>0.014619</td>\n",
       "      <td>0.207758</td>\n",
       "      <td>0.097982</td>\n",
       "      <td>0.732317</td>\n",
       "    </tr>\n",
       "    <tr>\n",
       "      <th>min</th>\n",
       "      <td>0.001110</td>\n",
       "      <td>0.027056</td>\n",
       "      <td>0.063123</td>\n",
       "      <td>0.270215</td>\n",
       "      <td>0.000000</td>\n",
       "      <td>0.452611</td>\n",
       "    </tr>\n",
       "    <tr>\n",
       "      <th>25%</th>\n",
       "      <td>0.004825</td>\n",
       "      <td>0.028827</td>\n",
       "      <td>0.067286</td>\n",
       "      <td>0.288093</td>\n",
       "      <td>0.009550</td>\n",
       "      <td>0.639026</td>\n",
       "    </tr>\n",
       "    <tr>\n",
       "      <th>50%</th>\n",
       "      <td>0.008400</td>\n",
       "      <td>0.030275</td>\n",
       "      <td>0.070511</td>\n",
       "      <td>0.300198</td>\n",
       "      <td>0.009992</td>\n",
       "      <td>1.193060</td>\n",
       "    </tr>\n",
       "    <tr>\n",
       "      <th>75%</th>\n",
       "      <td>0.012175</td>\n",
       "      <td>0.031566</td>\n",
       "      <td>0.073489</td>\n",
       "      <td>0.316024</td>\n",
       "      <td>0.010498</td>\n",
       "      <td>1.571800</td>\n",
       "    </tr>\n",
       "    <tr>\n",
       "      <th>max</th>\n",
       "      <td>0.017440</td>\n",
       "      <td>0.178000</td>\n",
       "      <td>0.194000</td>\n",
       "      <td>2.000000</td>\n",
       "      <td>0.801000</td>\n",
       "      <td>2.964809</td>\n",
       "    </tr>\n",
       "  </tbody>\n",
       "</table>\n",
       "</div>"
      ],
      "text/plain": [
       "               As          Cd          Ni          Fe          Pb          Zn\n",
       "count  162.000000  162.000000  162.000000  162.000000  162.000000  162.000000\n",
       "mean     0.008570    0.032517    0.072087    0.332911    0.023369    1.301433\n",
       "std      0.004308    0.015767    0.014619    0.207758    0.097982    0.732317\n",
       "min      0.001110    0.027056    0.063123    0.270215    0.000000    0.452611\n",
       "25%      0.004825    0.028827    0.067286    0.288093    0.009550    0.639026\n",
       "50%      0.008400    0.030275    0.070511    0.300198    0.009992    1.193060\n",
       "75%      0.012175    0.031566    0.073489    0.316024    0.010498    1.571800\n",
       "max      0.017440    0.178000    0.194000    2.000000    0.801000    2.964809"
      ]
     },
     "execution_count": 21,
     "metadata": {},
     "output_type": "execute_result"
    }
   ],
   "source": [
    "features.describe()"
   ]
  },
  {
   "cell_type": "code",
   "execution_count": null,
   "id": "f5f18866",
   "metadata": {},
   "outputs": [],
   "source": []
  },
  {
   "cell_type": "code",
   "execution_count": null,
   "id": "27c0a1bd",
   "metadata": {},
   "outputs": [],
   "source": []
  },
  {
   "cell_type": "markdown",
   "id": "298c9634",
   "metadata": {},
   "source": [
    "#### 1. Using LightGBM"
   ]
  },
  {
   "cell_type": "code",
   "execution_count": 36,
   "id": "b8124d74",
   "metadata": {},
   "outputs": [
    {
     "name": "stdout",
     "output_type": "stream",
     "text": [
      "[1 1 1 1 1 1 1 1 1 1 1 1 1 1 1 1 1 1 1 1 1 1 1 1 1 1 1 1 1 1 1 1 1 1 1 1 1\n",
      " 1 1 1 1 1 1 1 1 1 1 1 1 1 1 1 1 1 1 1 1 1 1 1 1 1 1 1 1 1 1 1 1 1 1 1 1 1\n",
      " 1 1 1 1 1 1 1 1 1 1 1 1 1 1 1 1 1 1 1 1 1 1 1 1 1 1 1 1 1 1 1 1 1 1 1 1 1\n",
      " 1 1 1 1 1 1 1 1 1 1 1 1 1 1 1 1 1 1 1 1 1 1 1 1 1 1 1 1 1 1 1 1 1 1 1 1 1\n",
      " 1 1 1 1 1 1 1 1 1 1 1 1 1 1]\n",
      "13.001680374145508 ms\n"
     ]
    }
   ],
   "source": [
    "start_time=time.time()\n",
    "lgb_model = joblib.load('lgb_river_model')\n",
    "\n",
    "y_pred = lgb_model.predict(features)\n",
    "print(y_pred)\n",
    "\n",
    "finish_time=time.time()\n",
    "time_taken=finish_time-start_time\n",
    "print(time_taken*1000,\"ms\")"
   ]
  },
  {
   "cell_type": "markdown",
   "id": "f3199edf",
   "metadata": {},
   "source": [
    "###### 2. Using XGBOOST Classifier"
   ]
  },
  {
   "cell_type": "code",
   "execution_count": 37,
   "id": "85cba43d",
   "metadata": {},
   "outputs": [
    {
     "name": "stdout",
     "output_type": "stream",
     "text": [
      "[1 1 1 1 1 1 1 1 1 1 1 1 1 1 1 1 1 1 1 1 1 1 1 1 1 1 1 1 1 1 1 1 1 1 1 1 1\n",
      " 1 1 1 1 1 1 1 1 1 1 1 1 1 1 1 1 1 1 1 1 1 1 1 1 1 1 1 1 1 1 1 1 1 1 1 1 1\n",
      " 1 1 1 1 1 1 1 1 1 1 1 1 1 1 1 1 1 1 1 1 1 1 1 1 1 1 1 1 1 1 1 1 1 1 1 1 1\n",
      " 1 1 1 1 1 1 1 1 1 1 1 1 1 1 1 1 1 1 1 1 1 1 1 1 1 1 1 1 1 1 1 1 1 1 1 1 1\n",
      " 1 1 1 1 1 1 1 1 1 1 1 1 1 1]\n",
      "14.516592025756836 ms\n"
     ]
    }
   ],
   "source": [
    "start_time=time.time()\n",
    "xgb_model = joblib.load('xgb_river_model')\n",
    "\n",
    "y_pred = xgb_model.predict(features)\n",
    "print(y_pred)\n",
    "\n",
    "finish_time=time.time()\n",
    "time_taken=finish_time-start_time\n",
    "print(time_taken*1000,\"ms\")"
   ]
  },
  {
   "cell_type": "markdown",
   "id": "d1f53139",
   "metadata": {},
   "source": [
    "###### 3. Using RandomForest Classifier"
   ]
  },
  {
   "cell_type": "code",
   "execution_count": 38,
   "id": "ea7a912f",
   "metadata": {
    "scrolled": true
   },
   "outputs": [
    {
     "name": "stdout",
     "output_type": "stream",
     "text": [
      "[1 1 1 1 1 1 1 1 1 1 1 1 1 1 1 1 1 1 1 1 1 1 1 1 1 1 1 1 1 1 1 1 1 1 1 1 1\n",
      " 1 1 1 1 1 1 1 1 1 1 1 1 1 1 1 1 1 1 1 1 1 1 1 1 1 1 1 1 1 1 1 1 1 1 1 1 1\n",
      " 1 1 1 1 1 1 1 1 1 1 1 1 1 1 1 1 1 1 1 1 1 1 1 1 1 1 1 1 1 1 1 1 1 1 1 1 1\n",
      " 1 1 1 1 1 1 1 1 1 1 1 1 1 1 1 1 1 1 1 1 1 1 1 1 1 1 1 1 1 1 1 1 1 1 1 1 1\n",
      " 1 1 1 1 1 1 1 1 1 1 1 1 1 1]\n",
      "34.5151424407959 ms\n"
     ]
    }
   ],
   "source": [
    "start_time=time.time()\n",
    "rf_model = joblib.load('rf_river_model')\n",
    "\n",
    "y_pred = rf_model.predict(features)\n",
    "print(y_pred)\n",
    "\n",
    "finish_time=time.time()\n",
    "time_taken=finish_time-start_time\n",
    "print(time_taken*1000,\"ms\")"
   ]
  },
  {
   "cell_type": "markdown",
   "id": "04f497e5",
   "metadata": {},
   "source": [
    "#### 4. Using Decision Tree"
   ]
  },
  {
   "cell_type": "code",
   "execution_count": 39,
   "id": "d48e4327",
   "metadata": {},
   "outputs": [
    {
     "name": "stdout",
     "output_type": "stream",
     "text": [
      "[0 0 0 0 0 0 0 0 0 0 0 0 0 0 0 0 0 0 0 0 0 0 0 0 0 0 0 0 0 0 0 0 0 0 0 0 0\n",
      " 0 0 0 0 0 0 0 0 0 0 0 0 0 0 0 0 0 0 0 0 0 0 0 0 0 0 0 0 0 0 0 0 0 0 0 0 0\n",
      " 0 0 0 0 0 0 0 0 0 0 0 0 0 0 0 0 0 0 0 0 0 0 0 0 0 0 0 0 0 0 0 0 0 0 0 0 0\n",
      " 0 0 0 0 0 0 0 0 0 0 0 0 0 0 0 0 0 0 0 0 0 0 0 0 0 0 0 0 0 0 0 0 0 0 0 0 0\n",
      " 0 0 0 0 0 0 0 0 0 0 0 0 0 0]\n",
      "5.000114440917969 ms\n"
     ]
    }
   ],
   "source": [
    "start_time=time.time()\n",
    "dt_model = joblib.load('dt_river_model')\n",
    "\n",
    "y_pred = dt_model.predict(features)\n",
    "print(y_pred)\n",
    "\n",
    "finish_time=time.time()\n",
    "time_taken=finish_time-start_time\n",
    "print(time_taken*1000,\"ms\")"
   ]
  },
  {
   "cell_type": "markdown",
   "id": "d290b874",
   "metadata": {},
   "source": [
    "#### 5. Multinomial Naive Bayes"
   ]
  },
  {
   "cell_type": "code",
   "execution_count": 40,
   "id": "2c0b9594",
   "metadata": {},
   "outputs": [
    {
     "name": "stdout",
     "output_type": "stream",
     "text": [
      "[0 1 0 1 0 1 0 0 0 0 0 0 0 0 0 0 0 0 0 0 0 0 0 0 0 0 0 0 0 0 0 0 1 1 1 1 1\n",
      " 1 1 1 1 1 1 1 1 1 1 1 1 1 1 1 1 1 1 1 1 1 0 0 0 0 0 0 0 0 0 0 0 0 0 0 0 0\n",
      " 0 0 0 0 0 0 0 0 0 0 1 1 1 1 1 1 1 1 1 1 1 1 1 1 1 1 1 1 1 1 1 1 1 1 1 1 0\n",
      " 0 0 0 0 0 0 0 0 0 0 0 0 0 0 0 0 0 0 0 0 0 0 0 0 0 0 0 0 0 0 0 1 0 1 1 0 1\n",
      " 0 1 0 1 1 1 0 1 0 1 1 1 0 0]\n",
      "6.003141403198242 ms\n"
     ]
    }
   ],
   "source": [
    "start_time=time.time()\n",
    "mnb_model = joblib.load('mnb_river_model')\n",
    "\n",
    "y_pred = mnb_model.predict(features)\n",
    "print(y_pred)\n",
    "\n",
    "finish_time=time.time()\n",
    "time_taken=finish_time-start_time\n",
    "print(time_taken*1000,\"ms\")"
   ]
  },
  {
   "cell_type": "markdown",
   "id": "70ac40fb",
   "metadata": {},
   "source": [
    "#### 6. Gaussian Naive Bayes"
   ]
  },
  {
   "cell_type": "code",
   "execution_count": 41,
   "id": "c2e49549",
   "metadata": {},
   "outputs": [
    {
     "name": "stdout",
     "output_type": "stream",
     "text": [
      "[1 1 1 1 1 1 1 1 1 1 1 1 1 1 1 1 1 1 1 1 1 1 1 1 1 1 1 1 1 1 1 1 1 1 1 1 1\n",
      " 1 1 1 1 1 1 1 1 1 1 1 1 1 1 1 1 1 1 1 1 1 1 1 1 1 1 1 1 1 1 1 1 1 1 1 1 1\n",
      " 1 1 1 1 1 1 1 1 1 1 1 1 1 1 1 1 1 1 1 1 1 1 1 1 1 1 1 1 1 1 1 1 1 1 1 1 1\n",
      " 1 1 1 1 1 1 1 1 1 1 1 1 1 1 1 1 1 1 1 1 1 1 1 1 1 1 1 1 1 1 1 1 1 1 1 1 1\n",
      " 1 1 1 1 1 1 1 1 1 1 1 1 1 1]\n",
      "5.004644393920898 ms\n"
     ]
    }
   ],
   "source": [
    "start_time=time.time()\n",
    "gnb_model = joblib.load('gnb_river_model')\n",
    "\n",
    "y_pred = gnb_model.predict(features)\n",
    "print(y_pred)\n",
    "\n",
    "finish_time=time.time()\n",
    "time_taken=finish_time-start_time\n",
    "print(time_taken*1000,\"ms\")"
   ]
  },
  {
   "cell_type": "markdown",
   "id": "fdfa1684",
   "metadata": {},
   "source": [
    "#### 7. SVM"
   ]
  },
  {
   "cell_type": "code",
   "execution_count": 42,
   "id": "80a84fda",
   "metadata": {},
   "outputs": [
    {
     "name": "stdout",
     "output_type": "stream",
     "text": [
      "[1 1 1 1 1 1 1 1 1 1 1 1 1 1 1 1 1 1 1 1 1 1 1 1 1 1 1 1 1 1 1 1 1 1 1 1 1\n",
      " 1 1 1 1 1 1 1 1 1 1 1 1 1 1 1 1 1 1 1 1 1 1 1 1 1 1 1 1 1 1 1 1 1 1 1 1 1\n",
      " 1 1 1 1 1 1 1 1 1 1 1 1 1 1 1 1 1 1 1 1 1 1 1 1 1 1 1 1 1 1 1 1 1 1 1 1 1\n",
      " 1 1 1 1 1 1 1 1 1 1 1 1 1 1 1 1 1 1 1 1 1 1 1 1 1 1 1 1 1 1 1 1 1 1 1 1 1\n",
      " 1 1 1 1 1 1 1 1 1 1 1 1 1 1]\n",
      "6.995916366577148 ms\n"
     ]
    }
   ],
   "source": [
    "start_time=time.time()\n",
    "svm_model = joblib.load('svm_river_model')\n",
    "\n",
    "y_pred = svm_model.predict(features)\n",
    "print(y_pred)\n",
    "\n",
    "finish_time=time.time()\n",
    "time_taken=finish_time-start_time\n",
    "print(time_taken*1000,\"ms\")"
   ]
  },
  {
   "cell_type": "markdown",
   "id": "8eb0d3f4",
   "metadata": {},
   "source": [
    "#### 8. Ridge Classifier"
   ]
  },
  {
   "cell_type": "code",
   "execution_count": 43,
   "id": "22e52a48",
   "metadata": {},
   "outputs": [
    {
     "name": "stdout",
     "output_type": "stream",
     "text": [
      "[1 1 1 1 1 1 1 1 1 1 1 1 1 1 1 1 1 1 1 1 1 1 1 1 1 1 1 1 1 1 1 1 1 1 1 1 1\n",
      " 1 1 1 1 1 1 1 1 1 1 1 1 1 1 1 1 1 1 1 1 1 1 1 1 1 1 1 1 1 1 1 1 1 1 1 1 1\n",
      " 1 1 1 1 1 1 1 1 1 1 1 1 1 1 1 1 1 1 1 1 1 1 1 1 1 1 1 1 1 1 1 1 1 1 1 1 1\n",
      " 1 1 1 1 1 1 1 1 1 1 1 1 1 1 1 1 1 1 1 1 1 1 1 1 1 1 1 1 1 1 1 1 1 1 1 1 1\n",
      " 1 1 1 1 1 1 1 1 1 1 1 1 1 1]\n",
      "6.008148193359375 ms\n"
     ]
    }
   ],
   "source": [
    "start_time=time.time()\n",
    "rg_model = joblib.load('rg_river_model')\n",
    "\n",
    "y_pred = rg_model.predict(features)\n",
    "print(y_pred)\n",
    "\n",
    "finish_time=time.time()\n",
    "time_taken=finish_time-start_time\n",
    "print(time_taken*1000,\"ms\")"
   ]
  },
  {
   "cell_type": "markdown",
   "id": "9fab7668",
   "metadata": {},
   "source": [
    "#### 9. Logistic Regression"
   ]
  },
  {
   "cell_type": "code",
   "execution_count": 45,
   "id": "0f4f9c0b",
   "metadata": {},
   "outputs": [
    {
     "name": "stdout",
     "output_type": "stream",
     "text": [
      "[1 1 1 1 1 1 1 1 1 1 1 1 1 1 1 1 1 1 1 1 1 1 1 1 1 1 1 1 1 1 1 1 1 1 1 1 1\n",
      " 1 1 1 1 1 1 1 1 1 1 1 1 1 1 1 1 1 1 1 1 1 1 1 1 1 1 1 1 1 1 1 1 1 1 1 1 1\n",
      " 1 1 1 1 1 1 1 1 1 1 1 1 1 1 1 1 1 1 1 1 1 1 1 1 1 1 1 1 1 1 1 1 1 1 1 1 1\n",
      " 1 1 1 1 1 1 1 1 1 1 1 1 1 1 1 1 1 1 1 1 1 1 1 1 1 1 1 1 1 1 1 1 1 1 1 1 1\n",
      " 1 1 1 1 1 1 1 1 1 1 1 1 1 1]\n",
      "5.5370330810546875 ms\n"
     ]
    }
   ],
   "source": [
    "start_time=time.time()\n",
    "logr_model = joblib.load('logr_river_model')\n",
    "\n",
    "y_pred = logr_model.predict(features)\n",
    "print(y_pred)\n",
    "\n",
    "finish_time=time.time()\n",
    "time_taken=finish_time-start_time\n",
    "print(time_taken*1000,\"ms\")"
   ]
  },
  {
   "cell_type": "code",
   "execution_count": null,
   "id": "16e6d6ba",
   "metadata": {},
   "outputs": [],
   "source": []
  },
  {
   "cell_type": "code",
   "execution_count": null,
   "id": "f1528e49",
   "metadata": {},
   "outputs": [],
   "source": []
  }
 ],
 "metadata": {
  "kernelspec": {
   "display_name": "Python 3",
   "language": "python",
   "name": "python3"
  },
  "language_info": {
   "codemirror_mode": {
    "name": "ipython",
    "version": 3
   },
   "file_extension": ".py",
   "mimetype": "text/x-python",
   "name": "python",
   "nbconvert_exporter": "python",
   "pygments_lexer": "ipython3",
   "version": "3.8.8"
  }
 },
 "nbformat": 4,
 "nbformat_minor": 5
}
