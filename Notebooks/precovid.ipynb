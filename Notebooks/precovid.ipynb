{
 "cells": [
  {
   "cell_type": "code",
   "execution_count": 1,
   "id": "2063ca3e",
   "metadata": {},
   "outputs": [],
   "source": [
    "import xgboost as xgb\n",
    "from sklearn.linear_model import LogisticRegression\n",
    "from sklearn.svm import SVC\n",
    "from sklearn.tree import DecisionTreeClassifier\n",
    "from sklearn.ensemble import RandomForestClassifier\n",
    "from sklearn.naive_bayes import GaussianNB, MultinomialNB\n",
    "from sklearn.linear_model import RidgeClassifier\n",
    "from lightgbm import LGBMClassifier\n",
    "\n",
    "import pandas as pd\n",
    "from sklearn.model_selection import train_test_split\n",
    "from sklearn.metrics import r2_score, auc\n",
    "import numpy as np\n",
    "from sklearn.model_selection import cross_val_score\n",
    "import time as time\n",
    "import joblib"
   ]
  },
  {
   "cell_type": "code",
   "execution_count": 6,
   "id": "688bec85",
   "metadata": {},
   "outputs": [
    {
     "data": {
      "text/plain": [
       "Unnamed: 0       int64\n",
       "Location        object\n",
       "As             float64\n",
       "cd             float64\n",
       "Ni             float64\n",
       "Fe             float64\n",
       "pb             float64\n",
       "zn             float64\n",
       "Unnamed: 8     float64\n",
       "Unnamed: 9     float64\n",
       "Unnamed: 10    float64\n",
       "dtype: object"
      ]
     },
     "execution_count": 6,
     "metadata": {},
     "output_type": "execute_result"
    }
   ],
   "source": [
    "df = pd.read_csv('precovid.csv')\n",
    "df.dtypes"
   ]
  },
  {
   "cell_type": "code",
   "execution_count": 7,
   "id": "4207bff4",
   "metadata": {},
   "outputs": [
    {
     "data": {
      "text/plain": [
       "Index(['Unnamed: 8', 'Unnamed: 9', 'Unnamed: 10'], dtype='object')"
      ]
     },
     "execution_count": 7,
     "metadata": {},
     "output_type": "execute_result"
    }
   ],
   "source": [
    "df.columns[df.isna().any()]"
   ]
  },
  {
   "cell_type": "markdown",
   "id": "9b038ba6",
   "metadata": {},
   "source": [
    "##### Label Encoding"
   ]
  },
  {
   "cell_type": "code",
   "execution_count": 8,
   "id": "82b8e211",
   "metadata": {},
   "outputs": [
    {
     "data": {
      "text/html": [
       "<div>\n",
       "<style scoped>\n",
       "    .dataframe tbody tr th:only-of-type {\n",
       "        vertical-align: middle;\n",
       "    }\n",
       "\n",
       "    .dataframe tbody tr th {\n",
       "        vertical-align: top;\n",
       "    }\n",
       "\n",
       "    .dataframe thead th {\n",
       "        text-align: right;\n",
       "    }\n",
       "</style>\n",
       "<table border=\"1\" class=\"dataframe\">\n",
       "  <thead>\n",
       "    <tr style=\"text-align: right;\">\n",
       "      <th></th>\n",
       "      <th>Unnamed: 0</th>\n",
       "      <th>Location</th>\n",
       "      <th>As</th>\n",
       "      <th>cd</th>\n",
       "      <th>Ni</th>\n",
       "      <th>Fe</th>\n",
       "      <th>pb</th>\n",
       "      <th>zn</th>\n",
       "      <th>Unnamed: 8</th>\n",
       "      <th>Unnamed: 9</th>\n",
       "      <th>Unnamed: 10</th>\n",
       "    </tr>\n",
       "  </thead>\n",
       "  <tbody>\n",
       "    <tr>\n",
       "      <th>0</th>\n",
       "      <td>0</td>\n",
       "      <td>ramganga_river</td>\n",
       "      <td>0.965635</td>\n",
       "      <td>0.036000</td>\n",
       "      <td>0.162000</td>\n",
       "      <td>2.565000</td>\n",
       "      <td>0.001000</td>\n",
       "      <td>1.441000</td>\n",
       "      <td>NaN</td>\n",
       "      <td>NaN</td>\n",
       "      <td>NaN</td>\n",
       "    </tr>\n",
       "    <tr>\n",
       "      <th>1</th>\n",
       "      <td>1</td>\n",
       "      <td>katghar_handpump</td>\n",
       "      <td>0.290895</td>\n",
       "      <td>0.054000</td>\n",
       "      <td>0.105000</td>\n",
       "      <td>0.669000</td>\n",
       "      <td>0.002000</td>\n",
       "      <td>0.657000</td>\n",
       "      <td>NaN</td>\n",
       "      <td>NaN</td>\n",
       "      <td>NaN</td>\n",
       "    </tr>\n",
       "    <tr>\n",
       "      <th>2</th>\n",
       "      <td>2</td>\n",
       "      <td>kunwar_saheb_lane</td>\n",
       "      <td>0.873131</td>\n",
       "      <td>0.082000</td>\n",
       "      <td>0.226000</td>\n",
       "      <td>1.623000</td>\n",
       "      <td>0.064000</td>\n",
       "      <td>2.900000</td>\n",
       "      <td>NaN</td>\n",
       "      <td>NaN</td>\n",
       "      <td>NaN</td>\n",
       "    </tr>\n",
       "    <tr>\n",
       "      <th>3</th>\n",
       "      <td>3</td>\n",
       "      <td>ramganga</td>\n",
       "      <td>0.411556</td>\n",
       "      <td>0.116000</td>\n",
       "      <td>0.121000</td>\n",
       "      <td>2.704000</td>\n",
       "      <td>0.626000</td>\n",
       "      <td>0.504000</td>\n",
       "      <td>NaN</td>\n",
       "      <td>NaN</td>\n",
       "      <td>NaN</td>\n",
       "    </tr>\n",
       "    <tr>\n",
       "      <th>4</th>\n",
       "      <td>4</td>\n",
       "      <td>near_ramganga_handpump</td>\n",
       "      <td>0.327900</td>\n",
       "      <td>0.142000</td>\n",
       "      <td>0.093100</td>\n",
       "      <td>1.701000</td>\n",
       "      <td>0.802000</td>\n",
       "      <td>1.650000</td>\n",
       "      <td>NaN</td>\n",
       "      <td>NaN</td>\n",
       "      <td>NaN</td>\n",
       "    </tr>\n",
       "    <tr>\n",
       "      <th>...</th>\n",
       "      <td>...</td>\n",
       "      <td>...</td>\n",
       "      <td>...</td>\n",
       "      <td>...</td>\n",
       "      <td>...</td>\n",
       "      <td>...</td>\n",
       "      <td>...</td>\n",
       "      <td>...</td>\n",
       "      <td>...</td>\n",
       "      <td>...</td>\n",
       "      <td>...</td>\n",
       "    </tr>\n",
       "    <tr>\n",
       "      <th>157</th>\n",
       "      <td>157</td>\n",
       "      <td>warsi_nagar21</td>\n",
       "      <td>0.169062</td>\n",
       "      <td>0.195801</td>\n",
       "      <td>0.266266</td>\n",
       "      <td>0.963756</td>\n",
       "      <td>0.936184</td>\n",
       "      <td>1.144230</td>\n",
       "      <td>NaN</td>\n",
       "      <td>NaN</td>\n",
       "      <td>NaN</td>\n",
       "    </tr>\n",
       "    <tr>\n",
       "      <th>158</th>\n",
       "      <td>158</td>\n",
       "      <td>warsi_nagar22</td>\n",
       "      <td>0.521417</td>\n",
       "      <td>0.173434</td>\n",
       "      <td>0.270998</td>\n",
       "      <td>1.071279</td>\n",
       "      <td>0.870394</td>\n",
       "      <td>0.982046</td>\n",
       "      <td>NaN</td>\n",
       "      <td>NaN</td>\n",
       "      <td>NaN</td>\n",
       "    </tr>\n",
       "    <tr>\n",
       "      <th>159</th>\n",
       "      <td>159</td>\n",
       "      <td>warsi_nagar23</td>\n",
       "      <td>0.286114</td>\n",
       "      <td>0.188540</td>\n",
       "      <td>0.264798</td>\n",
       "      <td>1.009704</td>\n",
       "      <td>0.896333</td>\n",
       "      <td>1.106447</td>\n",
       "      <td>NaN</td>\n",
       "      <td>NaN</td>\n",
       "      <td>NaN</td>\n",
       "    </tr>\n",
       "    <tr>\n",
       "      <th>160</th>\n",
       "      <td>160</td>\n",
       "      <td>warsi_nagar24</td>\n",
       "      <td>0.563254</td>\n",
       "      <td>0.168594</td>\n",
       "      <td>0.237354</td>\n",
       "      <td>0.988376</td>\n",
       "      <td>0.905069</td>\n",
       "      <td>1.134055</td>\n",
       "      <td>NaN</td>\n",
       "      <td>NaN</td>\n",
       "      <td>NaN</td>\n",
       "    </tr>\n",
       "    <tr>\n",
       "      <th>161</th>\n",
       "      <td>161</td>\n",
       "      <td>warsi_nagar25</td>\n",
       "      <td>0.813066</td>\n",
       "      <td>0.185916</td>\n",
       "      <td>0.258772</td>\n",
       "      <td>1.006280</td>\n",
       "      <td>0.888031</td>\n",
       "      <td>1.035946</td>\n",
       "      <td>NaN</td>\n",
       "      <td>NaN</td>\n",
       "      <td>NaN</td>\n",
       "    </tr>\n",
       "  </tbody>\n",
       "</table>\n",
       "<p>162 rows × 11 columns</p>\n",
       "</div>"
      ],
      "text/plain": [
       "     Unnamed: 0                Location        As        cd        Ni  \\\n",
       "0             0          ramganga_river  0.965635  0.036000  0.162000   \n",
       "1             1        katghar_handpump  0.290895  0.054000  0.105000   \n",
       "2             2       kunwar_saheb_lane  0.873131  0.082000  0.226000   \n",
       "3             3                ramganga  0.411556  0.116000  0.121000   \n",
       "4             4  near_ramganga_handpump  0.327900  0.142000  0.093100   \n",
       "..          ...                     ...       ...       ...       ...   \n",
       "157         157           warsi_nagar21  0.169062  0.195801  0.266266   \n",
       "158         158           warsi_nagar22  0.521417  0.173434  0.270998   \n",
       "159         159           warsi_nagar23  0.286114  0.188540  0.264798   \n",
       "160         160           warsi_nagar24  0.563254  0.168594  0.237354   \n",
       "161         161           warsi_nagar25  0.813066  0.185916  0.258772   \n",
       "\n",
       "           Fe        pb        zn  Unnamed: 8  Unnamed: 9  Unnamed: 10  \n",
       "0    2.565000  0.001000  1.441000         NaN         NaN          NaN  \n",
       "1    0.669000  0.002000  0.657000         NaN         NaN          NaN  \n",
       "2    1.623000  0.064000  2.900000         NaN         NaN          NaN  \n",
       "3    2.704000  0.626000  0.504000         NaN         NaN          NaN  \n",
       "4    1.701000  0.802000  1.650000         NaN         NaN          NaN  \n",
       "..        ...       ...       ...         ...         ...          ...  \n",
       "157  0.963756  0.936184  1.144230         NaN         NaN          NaN  \n",
       "158  1.071279  0.870394  0.982046         NaN         NaN          NaN  \n",
       "159  1.009704  0.896333  1.106447         NaN         NaN          NaN  \n",
       "160  0.988376  0.905069  1.134055         NaN         NaN          NaN  \n",
       "161  1.006280  0.888031  1.035946         NaN         NaN          NaN  \n",
       "\n",
       "[162 rows x 11 columns]"
      ]
     },
     "execution_count": 8,
     "metadata": {},
     "output_type": "execute_result"
    }
   ],
   "source": [
    "df"
   ]
  },
  {
   "cell_type": "code",
   "execution_count": 9,
   "id": "e05357f8",
   "metadata": {},
   "outputs": [
    {
     "data": {
      "text/plain": [
       "162"
      ]
     },
     "execution_count": 9,
     "metadata": {},
     "output_type": "execute_result"
    }
   ],
   "source": [
    "len(df['Location'].unique())"
   ]
  },
  {
   "cell_type": "code",
   "execution_count": 10,
   "id": "f4366912",
   "metadata": {},
   "outputs": [
    {
     "data": {
      "text/plain": [
       "(162, 11)"
      ]
     },
     "execution_count": 10,
     "metadata": {},
     "output_type": "execute_result"
    }
   ],
   "source": [
    "df.shape"
   ]
  },
  {
   "cell_type": "code",
   "execution_count": 11,
   "id": "9b74c28e",
   "metadata": {},
   "outputs": [
    {
     "data": {
      "text/html": [
       "<div>\n",
       "<style scoped>\n",
       "    .dataframe tbody tr th:only-of-type {\n",
       "        vertical-align: middle;\n",
       "    }\n",
       "\n",
       "    .dataframe tbody tr th {\n",
       "        vertical-align: top;\n",
       "    }\n",
       "\n",
       "    .dataframe thead th {\n",
       "        text-align: right;\n",
       "    }\n",
       "</style>\n",
       "<table border=\"1\" class=\"dataframe\">\n",
       "  <thead>\n",
       "    <tr style=\"text-align: right;\">\n",
       "      <th></th>\n",
       "      <th>As</th>\n",
       "      <th>cd</th>\n",
       "      <th>Ni</th>\n",
       "      <th>Fe</th>\n",
       "      <th>pb</th>\n",
       "      <th>zn</th>\n",
       "    </tr>\n",
       "  </thead>\n",
       "  <tbody>\n",
       "    <tr>\n",
       "      <th>0</th>\n",
       "      <td>0.965635</td>\n",
       "      <td>0.036000</td>\n",
       "      <td>0.162000</td>\n",
       "      <td>2.565000</td>\n",
       "      <td>0.001000</td>\n",
       "      <td>1.441000</td>\n",
       "    </tr>\n",
       "    <tr>\n",
       "      <th>1</th>\n",
       "      <td>0.290895</td>\n",
       "      <td>0.054000</td>\n",
       "      <td>0.105000</td>\n",
       "      <td>0.669000</td>\n",
       "      <td>0.002000</td>\n",
       "      <td>0.657000</td>\n",
       "    </tr>\n",
       "    <tr>\n",
       "      <th>2</th>\n",
       "      <td>0.873131</td>\n",
       "      <td>0.082000</td>\n",
       "      <td>0.226000</td>\n",
       "      <td>1.623000</td>\n",
       "      <td>0.064000</td>\n",
       "      <td>2.900000</td>\n",
       "    </tr>\n",
       "    <tr>\n",
       "      <th>3</th>\n",
       "      <td>0.411556</td>\n",
       "      <td>0.116000</td>\n",
       "      <td>0.121000</td>\n",
       "      <td>2.704000</td>\n",
       "      <td>0.626000</td>\n",
       "      <td>0.504000</td>\n",
       "    </tr>\n",
       "    <tr>\n",
       "      <th>4</th>\n",
       "      <td>0.327900</td>\n",
       "      <td>0.142000</td>\n",
       "      <td>0.093100</td>\n",
       "      <td>1.701000</td>\n",
       "      <td>0.802000</td>\n",
       "      <td>1.650000</td>\n",
       "    </tr>\n",
       "    <tr>\n",
       "      <th>...</th>\n",
       "      <td>...</td>\n",
       "      <td>...</td>\n",
       "      <td>...</td>\n",
       "      <td>...</td>\n",
       "      <td>...</td>\n",
       "      <td>...</td>\n",
       "    </tr>\n",
       "    <tr>\n",
       "      <th>157</th>\n",
       "      <td>0.169062</td>\n",
       "      <td>0.195801</td>\n",
       "      <td>0.266266</td>\n",
       "      <td>0.963756</td>\n",
       "      <td>0.936184</td>\n",
       "      <td>1.144230</td>\n",
       "    </tr>\n",
       "    <tr>\n",
       "      <th>158</th>\n",
       "      <td>0.521417</td>\n",
       "      <td>0.173434</td>\n",
       "      <td>0.270998</td>\n",
       "      <td>1.071279</td>\n",
       "      <td>0.870394</td>\n",
       "      <td>0.982046</td>\n",
       "    </tr>\n",
       "    <tr>\n",
       "      <th>159</th>\n",
       "      <td>0.286114</td>\n",
       "      <td>0.188540</td>\n",
       "      <td>0.264798</td>\n",
       "      <td>1.009704</td>\n",
       "      <td>0.896333</td>\n",
       "      <td>1.106447</td>\n",
       "    </tr>\n",
       "    <tr>\n",
       "      <th>160</th>\n",
       "      <td>0.563254</td>\n",
       "      <td>0.168594</td>\n",
       "      <td>0.237354</td>\n",
       "      <td>0.988376</td>\n",
       "      <td>0.905069</td>\n",
       "      <td>1.134055</td>\n",
       "    </tr>\n",
       "    <tr>\n",
       "      <th>161</th>\n",
       "      <td>0.813066</td>\n",
       "      <td>0.185916</td>\n",
       "      <td>0.258772</td>\n",
       "      <td>1.006280</td>\n",
       "      <td>0.888031</td>\n",
       "      <td>1.035946</td>\n",
       "    </tr>\n",
       "  </tbody>\n",
       "</table>\n",
       "<p>162 rows × 6 columns</p>\n",
       "</div>"
      ],
      "text/plain": [
       "           As        cd        Ni        Fe        pb        zn\n",
       "0    0.965635  0.036000  0.162000  2.565000  0.001000  1.441000\n",
       "1    0.290895  0.054000  0.105000  0.669000  0.002000  0.657000\n",
       "2    0.873131  0.082000  0.226000  1.623000  0.064000  2.900000\n",
       "3    0.411556  0.116000  0.121000  2.704000  0.626000  0.504000\n",
       "4    0.327900  0.142000  0.093100  1.701000  0.802000  1.650000\n",
       "..        ...       ...       ...       ...       ...       ...\n",
       "157  0.169062  0.195801  0.266266  0.963756  0.936184  1.144230\n",
       "158  0.521417  0.173434  0.270998  1.071279  0.870394  0.982046\n",
       "159  0.286114  0.188540  0.264798  1.009704  0.896333  1.106447\n",
       "160  0.563254  0.168594  0.237354  0.988376  0.905069  1.134055\n",
       "161  0.813066  0.185916  0.258772  1.006280  0.888031  1.035946\n",
       "\n",
       "[162 rows x 6 columns]"
      ]
     },
     "execution_count": 11,
     "metadata": {},
     "output_type": "execute_result"
    }
   ],
   "source": [
    "df.drop(['Unnamed: 0','Location','Unnamed: 8','Unnamed: 9','Unnamed: 10'], axis=True, inplace=True)\n",
    "df"
   ]
  },
  {
   "cell_type": "code",
   "execution_count": 112,
   "id": "08719cca",
   "metadata": {},
   "outputs": [],
   "source": [
    "# df.drop(['S. No.','River','As','Toxicity'], axis=True, inplace=True)\n",
    "# df"
   ]
  },
  {
   "cell_type": "code",
   "execution_count": 12,
   "id": "037ecdf3",
   "metadata": {},
   "outputs": [],
   "source": [
    "features = df\n",
    "# labels = df['Toxicity']"
   ]
  },
  {
   "cell_type": "code",
   "execution_count": 13,
   "id": "e490a354",
   "metadata": {},
   "outputs": [
    {
     "data": {
      "text/html": [
       "<div>\n",
       "<style scoped>\n",
       "    .dataframe tbody tr th:only-of-type {\n",
       "        vertical-align: middle;\n",
       "    }\n",
       "\n",
       "    .dataframe tbody tr th {\n",
       "        vertical-align: top;\n",
       "    }\n",
       "\n",
       "    .dataframe thead th {\n",
       "        text-align: right;\n",
       "    }\n",
       "</style>\n",
       "<table border=\"1\" class=\"dataframe\">\n",
       "  <thead>\n",
       "    <tr style=\"text-align: right;\">\n",
       "      <th></th>\n",
       "      <th>As</th>\n",
       "      <th>cd</th>\n",
       "      <th>Ni</th>\n",
       "      <th>Fe</th>\n",
       "      <th>pb</th>\n",
       "      <th>zn</th>\n",
       "    </tr>\n",
       "  </thead>\n",
       "  <tbody>\n",
       "    <tr>\n",
       "      <th>0</th>\n",
       "      <td>0.965635</td>\n",
       "      <td>0.036000</td>\n",
       "      <td>0.162000</td>\n",
       "      <td>2.565000</td>\n",
       "      <td>0.001000</td>\n",
       "      <td>1.441000</td>\n",
       "    </tr>\n",
       "    <tr>\n",
       "      <th>1</th>\n",
       "      <td>0.290895</td>\n",
       "      <td>0.054000</td>\n",
       "      <td>0.105000</td>\n",
       "      <td>0.669000</td>\n",
       "      <td>0.002000</td>\n",
       "      <td>0.657000</td>\n",
       "    </tr>\n",
       "    <tr>\n",
       "      <th>2</th>\n",
       "      <td>0.873131</td>\n",
       "      <td>0.082000</td>\n",
       "      <td>0.226000</td>\n",
       "      <td>1.623000</td>\n",
       "      <td>0.064000</td>\n",
       "      <td>2.900000</td>\n",
       "    </tr>\n",
       "    <tr>\n",
       "      <th>3</th>\n",
       "      <td>0.411556</td>\n",
       "      <td>0.116000</td>\n",
       "      <td>0.121000</td>\n",
       "      <td>2.704000</td>\n",
       "      <td>0.626000</td>\n",
       "      <td>0.504000</td>\n",
       "    </tr>\n",
       "    <tr>\n",
       "      <th>4</th>\n",
       "      <td>0.327900</td>\n",
       "      <td>0.142000</td>\n",
       "      <td>0.093100</td>\n",
       "      <td>1.701000</td>\n",
       "      <td>0.802000</td>\n",
       "      <td>1.650000</td>\n",
       "    </tr>\n",
       "    <tr>\n",
       "      <th>...</th>\n",
       "      <td>...</td>\n",
       "      <td>...</td>\n",
       "      <td>...</td>\n",
       "      <td>...</td>\n",
       "      <td>...</td>\n",
       "      <td>...</td>\n",
       "    </tr>\n",
       "    <tr>\n",
       "      <th>157</th>\n",
       "      <td>0.169062</td>\n",
       "      <td>0.195801</td>\n",
       "      <td>0.266266</td>\n",
       "      <td>0.963756</td>\n",
       "      <td>0.936184</td>\n",
       "      <td>1.144230</td>\n",
       "    </tr>\n",
       "    <tr>\n",
       "      <th>158</th>\n",
       "      <td>0.521417</td>\n",
       "      <td>0.173434</td>\n",
       "      <td>0.270998</td>\n",
       "      <td>1.071279</td>\n",
       "      <td>0.870394</td>\n",
       "      <td>0.982046</td>\n",
       "    </tr>\n",
       "    <tr>\n",
       "      <th>159</th>\n",
       "      <td>0.286114</td>\n",
       "      <td>0.188540</td>\n",
       "      <td>0.264798</td>\n",
       "      <td>1.009704</td>\n",
       "      <td>0.896333</td>\n",
       "      <td>1.106447</td>\n",
       "    </tr>\n",
       "    <tr>\n",
       "      <th>160</th>\n",
       "      <td>0.563254</td>\n",
       "      <td>0.168594</td>\n",
       "      <td>0.237354</td>\n",
       "      <td>0.988376</td>\n",
       "      <td>0.905069</td>\n",
       "      <td>1.134055</td>\n",
       "    </tr>\n",
       "    <tr>\n",
       "      <th>161</th>\n",
       "      <td>0.813066</td>\n",
       "      <td>0.185916</td>\n",
       "      <td>0.258772</td>\n",
       "      <td>1.006280</td>\n",
       "      <td>0.888031</td>\n",
       "      <td>1.035946</td>\n",
       "    </tr>\n",
       "  </tbody>\n",
       "</table>\n",
       "<p>162 rows × 6 columns</p>\n",
       "</div>"
      ],
      "text/plain": [
       "           As        cd        Ni        Fe        pb        zn\n",
       "0    0.965635  0.036000  0.162000  2.565000  0.001000  1.441000\n",
       "1    0.290895  0.054000  0.105000  0.669000  0.002000  0.657000\n",
       "2    0.873131  0.082000  0.226000  1.623000  0.064000  2.900000\n",
       "3    0.411556  0.116000  0.121000  2.704000  0.626000  0.504000\n",
       "4    0.327900  0.142000  0.093100  1.701000  0.802000  1.650000\n",
       "..        ...       ...       ...       ...       ...       ...\n",
       "157  0.169062  0.195801  0.266266  0.963756  0.936184  1.144230\n",
       "158  0.521417  0.173434  0.270998  1.071279  0.870394  0.982046\n",
       "159  0.286114  0.188540  0.264798  1.009704  0.896333  1.106447\n",
       "160  0.563254  0.168594  0.237354  0.988376  0.905069  1.134055\n",
       "161  0.813066  0.185916  0.258772  1.006280  0.888031  1.035946\n",
       "\n",
       "[162 rows x 6 columns]"
      ]
     },
     "execution_count": 13,
     "metadata": {},
     "output_type": "execute_result"
    }
   ],
   "source": [
    "features"
   ]
  },
  {
   "cell_type": "code",
   "execution_count": 14,
   "id": "d56d07d9",
   "metadata": {},
   "outputs": [
    {
     "data": {
      "text/html": [
       "<div>\n",
       "<style scoped>\n",
       "    .dataframe tbody tr th:only-of-type {\n",
       "        vertical-align: middle;\n",
       "    }\n",
       "\n",
       "    .dataframe tbody tr th {\n",
       "        vertical-align: top;\n",
       "    }\n",
       "\n",
       "    .dataframe thead th {\n",
       "        text-align: right;\n",
       "    }\n",
       "</style>\n",
       "<table border=\"1\" class=\"dataframe\">\n",
       "  <thead>\n",
       "    <tr style=\"text-align: right;\">\n",
       "      <th></th>\n",
       "      <th>As</th>\n",
       "      <th>cd</th>\n",
       "      <th>Ni</th>\n",
       "      <th>Fe</th>\n",
       "      <th>pb</th>\n",
       "      <th>zn</th>\n",
       "    </tr>\n",
       "  </thead>\n",
       "  <tbody>\n",
       "    <tr>\n",
       "      <th>count</th>\n",
       "      <td>162.000000</td>\n",
       "      <td>162.000000</td>\n",
       "      <td>162.000000</td>\n",
       "      <td>162.000000</td>\n",
       "      <td>162.000000</td>\n",
       "      <td>162.000000</td>\n",
       "    </tr>\n",
       "    <tr>\n",
       "      <th>mean</th>\n",
       "      <td>0.476504</td>\n",
       "      <td>0.102290</td>\n",
       "      <td>0.159426</td>\n",
       "      <td>1.718028</td>\n",
       "      <td>0.415287</td>\n",
       "      <td>1.382367</td>\n",
       "    </tr>\n",
       "    <tr>\n",
       "      <th>std</th>\n",
       "      <td>0.306788</td>\n",
       "      <td>0.051267</td>\n",
       "      <td>0.062308</td>\n",
       "      <td>0.754080</td>\n",
       "      <td>0.396782</td>\n",
       "      <td>0.839959</td>\n",
       "    </tr>\n",
       "    <tr>\n",
       "      <th>min</th>\n",
       "      <td>0.000420</td>\n",
       "      <td>0.032475</td>\n",
       "      <td>0.084276</td>\n",
       "      <td>0.605907</td>\n",
       "      <td>0.001000</td>\n",
       "      <td>0.454333</td>\n",
       "    </tr>\n",
       "    <tr>\n",
       "      <th>25%</th>\n",
       "      <td>0.211020</td>\n",
       "      <td>0.054262</td>\n",
       "      <td>0.106921</td>\n",
       "      <td>0.989608</td>\n",
       "      <td>0.021100</td>\n",
       "      <td>0.678431</td>\n",
       "    </tr>\n",
       "    <tr>\n",
       "      <th>50%</th>\n",
       "      <td>0.461745</td>\n",
       "      <td>0.097265</td>\n",
       "      <td>0.140247</td>\n",
       "      <td>1.726899</td>\n",
       "      <td>0.317730</td>\n",
       "      <td>1.224265</td>\n",
       "    </tr>\n",
       "    <tr>\n",
       "      <th>75%</th>\n",
       "      <td>0.749188</td>\n",
       "      <td>0.140426</td>\n",
       "      <td>0.222633</td>\n",
       "      <td>2.537107</td>\n",
       "      <td>0.814926</td>\n",
       "      <td>1.643824</td>\n",
       "    </tr>\n",
       "    <tr>\n",
       "      <th>max</th>\n",
       "      <td>0.991482</td>\n",
       "      <td>0.198082</td>\n",
       "      <td>0.281405</td>\n",
       "      <td>2.944000</td>\n",
       "      <td>1.055700</td>\n",
       "      <td>3.299533</td>\n",
       "    </tr>\n",
       "  </tbody>\n",
       "</table>\n",
       "</div>"
      ],
      "text/plain": [
       "               As          cd          Ni          Fe          pb          zn\n",
       "count  162.000000  162.000000  162.000000  162.000000  162.000000  162.000000\n",
       "mean     0.476504    0.102290    0.159426    1.718028    0.415287    1.382367\n",
       "std      0.306788    0.051267    0.062308    0.754080    0.396782    0.839959\n",
       "min      0.000420    0.032475    0.084276    0.605907    0.001000    0.454333\n",
       "25%      0.211020    0.054262    0.106921    0.989608    0.021100    0.678431\n",
       "50%      0.461745    0.097265    0.140247    1.726899    0.317730    1.224265\n",
       "75%      0.749188    0.140426    0.222633    2.537107    0.814926    1.643824\n",
       "max      0.991482    0.198082    0.281405    2.944000    1.055700    3.299533"
      ]
     },
     "execution_count": 14,
     "metadata": {},
     "output_type": "execute_result"
    }
   ],
   "source": [
    "features.describe()"
   ]
  },
  {
   "cell_type": "code",
   "execution_count": null,
   "id": "55ab246a",
   "metadata": {},
   "outputs": [],
   "source": []
  },
  {
   "cell_type": "code",
   "execution_count": null,
   "id": "677bfb89",
   "metadata": {},
   "outputs": [],
   "source": []
  },
  {
   "cell_type": "markdown",
   "id": "298c9634",
   "metadata": {},
   "source": [
    "#### 1. Using LightGBM"
   ]
  },
  {
   "cell_type": "code",
   "execution_count": 33,
   "id": "b8124d74",
   "metadata": {},
   "outputs": [
    {
     "name": "stdout",
     "output_type": "stream",
     "text": [
      "[1 1 1 1 1 1 1 1 1 1 1 1 1 1 1 1 1 1 1 1 1 1 1 1 1 1 1 1 1 1 1 1 1 1 1 1 1\n",
      " 1 1 1 1 1 1 1 1 1 1 1 1 1 1 1 1 1 1 1 1 1 1 1 1 1 1 1 1 1 1 1 1 1 1 1 1 1\n",
      " 1 1 1 1 1 1 1 1 1 1 1 1 1 1 1 1 1 1 1 1 1 1 1 1 1 1 1 1 1 1 1 1 1 1 1 1 1\n",
      " 1 1 1 1 1 1 1 1 1 1 1 1 1 1 1 1 1 1 1 1 1 1 1 1 1 1 1 1 1 1 1 1 1 1 1 1 1\n",
      " 1 1 1 1 1 1 1 1 1 1 1 1 1 1]\n",
      "14.48965072631836 ms\n"
     ]
    }
   ],
   "source": [
    "start_time=time.time()\n",
    "lgb_model = joblib.load('lgb_river_model')\n",
    "\n",
    "y_pred = lgb_model.predict(features)\n",
    "print(y_pred)\n",
    "\n",
    "finish_time=time.time()\n",
    "time_taken=finish_time-start_time\n",
    "print(time_taken*1000,\"ms\")"
   ]
  },
  {
   "cell_type": "markdown",
   "id": "f3199edf",
   "metadata": {},
   "source": [
    "###### 2. Using XGBOOST Classifier"
   ]
  },
  {
   "cell_type": "code",
   "execution_count": 34,
   "id": "85cba43d",
   "metadata": {},
   "outputs": [
    {
     "name": "stdout",
     "output_type": "stream",
     "text": [
      "[1 1 1 1 1 1 1 1 1 1 1 1 1 1 1 1 1 1 1 1 1 1 1 1 1 1 1 1 1 1 1 1 1 1 1 1 1\n",
      " 1 1 1 1 1 1 1 1 1 1 1 1 1 1 1 1 1 1 1 1 1 1 1 1 1 1 1 1 1 1 1 1 1 1 1 1 1\n",
      " 1 1 1 1 1 1 1 1 1 1 1 1 1 1 1 1 1 1 1 1 1 1 1 1 1 1 1 1 1 1 1 1 1 1 1 1 1\n",
      " 1 1 1 1 1 1 1 1 1 1 1 1 1 1 1 1 1 1 1 1 1 1 1 1 1 1 1 1 1 1 1 1 1 1 1 1 1\n",
      " 1 1 1 1 1 1 1 1 1 1 1 1 1 1]\n",
      "15.50912857055664 ms\n"
     ]
    }
   ],
   "source": [
    "start_time=time.time()\n",
    "xgb_model = joblib.load('xgb_river_model')\n",
    "\n",
    "y_pred = xgb_model.predict(features)\n",
    "print(y_pred)\n",
    "\n",
    "finish_time=time.time()\n",
    "time_taken=finish_time-start_time\n",
    "print(time_taken*1000,\"ms\")"
   ]
  },
  {
   "cell_type": "markdown",
   "id": "d1f53139",
   "metadata": {},
   "source": [
    "###### 3. Using RandomForest Classifier"
   ]
  },
  {
   "cell_type": "code",
   "execution_count": 35,
   "id": "ea7a912f",
   "metadata": {
    "scrolled": true
   },
   "outputs": [
    {
     "name": "stdout",
     "output_type": "stream",
     "text": [
      "[1 1 1 1 1 1 1 1 1 1 1 1 1 1 1 1 1 1 1 1 1 1 1 1 1 1 1 1 1 1 1 1 1 1 1 1 1\n",
      " 1 1 1 1 1 1 1 1 1 1 1 1 1 1 1 1 1 1 1 1 1 1 1 1 1 1 1 1 1 1 1 1 1 1 1 1 1\n",
      " 1 1 1 1 1 1 1 1 1 1 1 1 1 1 1 1 1 1 1 1 1 1 1 1 1 1 1 1 1 1 1 1 1 1 1 1 1\n",
      " 1 1 1 1 1 1 1 1 1 1 1 1 1 1 1 1 1 1 1 1 1 1 1 1 1 1 1 1 1 1 1 1 1 1 1 1 1\n",
      " 1 1 1 1 1 1 1 1 1 1 1 1 1 1]\n",
      "35.60137748718262 ms\n"
     ]
    }
   ],
   "source": [
    "start_time=time.time()\n",
    "rf_model = joblib.load('rf_river_model')\n",
    "\n",
    "y_pred = rf_model.predict(features)\n",
    "print(y_pred)\n",
    "\n",
    "finish_time=time.time()\n",
    "time_taken=finish_time-start_time\n",
    "print(time_taken*1000,\"ms\")"
   ]
  },
  {
   "cell_type": "markdown",
   "id": "04f497e5",
   "metadata": {},
   "source": [
    "#### 4. Using Decision Tree"
   ]
  },
  {
   "cell_type": "code",
   "execution_count": 36,
   "id": "d48e4327",
   "metadata": {},
   "outputs": [
    {
     "name": "stdout",
     "output_type": "stream",
     "text": [
      "[0 0 0 0 0 0 0 0 0 0 0 0 0 0 0 0 0 0 0 0 0 0 0 0 0 0 0 0 0 0 0 0 0 0 0 0 0\n",
      " 0 0 0 0 0 0 0 0 0 0 0 0 0 0 0 0 0 0 0 0 0 0 0 0 0 0 0 0 0 0 0 0 0 0 0 0 0\n",
      " 0 0 0 0 0 0 0 0 0 0 0 0 0 0 0 0 0 0 0 0 0 0 0 0 0 0 0 0 0 0 0 0 0 0 0 0 0\n",
      " 0 0 0 0 0 0 0 0 0 0 0 0 0 0 0 0 0 0 0 0 0 0 0 0 0 0 0 0 0 0 0 0 1 0 0 1 0\n",
      " 1 0 1 0 1 0 0 1 0 0 0 0 0 0]\n",
      "7.516622543334961 ms\n"
     ]
    }
   ],
   "source": [
    "start_time=time.time()\n",
    "dt_model = joblib.load('dt_river_model')\n",
    "\n",
    "y_pred = dt_model.predict(features)\n",
    "print(y_pred)\n",
    "\n",
    "finish_time=time.time()\n",
    "time_taken=finish_time-start_time\n",
    "print(time_taken*1000,\"ms\")"
   ]
  },
  {
   "cell_type": "markdown",
   "id": "d290b874",
   "metadata": {},
   "source": [
    "#### 5. Multinomial Naive Bayes"
   ]
  },
  {
   "cell_type": "code",
   "execution_count": 37,
   "id": "2c0b9594",
   "metadata": {},
   "outputs": [
    {
     "name": "stdout",
     "output_type": "stream",
     "text": [
      "[0 1 0 1 0 1 0 0 0 0 0 0 0 0 0 0 0 0 0 0 0 0 0 0 0 0 0 0 0 0 0 0 1 1 1 1 1\n",
      " 1 1 1 1 1 1 1 1 1 1 1 1 1 1 1 1 1 1 1 1 1 0 0 0 0 0 0 0 0 0 0 0 0 0 0 0 0\n",
      " 0 0 0 0 0 0 0 0 0 0 1 1 1 1 1 1 1 1 1 1 1 1 1 1 1 1 1 1 1 1 1 1 1 1 1 1 0\n",
      " 0 0 0 0 0 0 0 0 0 0 0 0 0 0 0 0 0 0 0 0 0 0 0 0 0 1 1 1 1 1 1 1 1 1 1 1 1\n",
      " 1 1 1 1 1 1 1 1 1 1 1 1 1 1]\n",
      "6.99925422668457 ms\n"
     ]
    }
   ],
   "source": [
    "start_time=time.time()\n",
    "mnb_model = joblib.load('mnb_river_model')\n",
    "\n",
    "y_pred = mnb_model.predict(features)\n",
    "print(y_pred)\n",
    "\n",
    "finish_time=time.time()\n",
    "time_taken=finish_time-start_time\n",
    "print(time_taken*1000,\"ms\")"
   ]
  },
  {
   "cell_type": "markdown",
   "id": "70ac40fb",
   "metadata": {},
   "source": [
    "#### 6. Gaussian Naive Bayes"
   ]
  },
  {
   "cell_type": "code",
   "execution_count": 38,
   "id": "c2e49549",
   "metadata": {},
   "outputs": [
    {
     "name": "stdout",
     "output_type": "stream",
     "text": [
      "[1 1 1 1 1 1 1 1 1 1 1 1 1 1 1 1 1 1 1 1 1 1 1 1 1 1 1 1 1 1 1 1 1 1 1 1 1\n",
      " 1 1 1 1 1 1 1 1 1 1 1 1 1 1 1 1 1 1 1 1 1 1 1 1 1 1 1 1 1 1 1 1 1 1 1 1 1\n",
      " 1 1 1 1 1 1 1 1 1 1 1 1 1 1 1 1 1 1 1 1 1 1 1 1 1 1 1 1 1 1 1 1 1 1 1 1 1\n",
      " 1 1 1 1 1 1 1 1 1 1 1 1 1 1 1 1 1 1 1 1 1 1 1 1 1 1 1 1 1 1 1 1 1 1 1 1 1\n",
      " 1 1 1 1 1 1 1 1 1 1 1 1 1 1]\n",
      "7.058620452880859 ms\n"
     ]
    }
   ],
   "source": [
    "start_time=time.time()\n",
    "gnb_model = joblib.load('gnb_river_model')\n",
    "\n",
    "y_pred = gnb_model.predict(features)\n",
    "print(y_pred)\n",
    "\n",
    "finish_time=time.time()\n",
    "time_taken=finish_time-start_time\n",
    "print(time_taken*1000,\"ms\")"
   ]
  },
  {
   "cell_type": "markdown",
   "id": "fdfa1684",
   "metadata": {},
   "source": [
    "#### 7. SVM"
   ]
  },
  {
   "cell_type": "code",
   "execution_count": 40,
   "id": "80a84fda",
   "metadata": {},
   "outputs": [
    {
     "name": "stdout",
     "output_type": "stream",
     "text": [
      "[1 1 1 1 1 1 1 1 1 1 1 1 1 1 1 1 1 1 1 1 1 1 1 1 1 1 1 1 1 1 1 1 1 1 1 1 1\n",
      " 1 1 1 1 1 1 1 1 1 1 1 1 1 1 1 1 1 1 1 1 1 1 1 1 1 1 1 1 1 1 1 1 1 1 1 1 1\n",
      " 1 1 1 1 1 1 1 1 1 1 1 1 1 1 1 1 1 1 1 1 1 1 1 1 1 1 1 1 1 1 1 1 1 1 1 1 1\n",
      " 1 1 1 1 1 1 1 1 1 1 1 1 1 1 1 1 1 1 1 1 1 1 1 1 1 1 1 1 1 1 1 1 1 1 1 1 1\n",
      " 1 1 1 1 1 1 1 1 1 1 1 1 1 1]\n",
      "5.985736846923828 ms\n"
     ]
    }
   ],
   "source": [
    "start_time=time.time()\n",
    "svm_model = joblib.load('svm_river_model')\n",
    "\n",
    "y_pred = svm_model.predict(features)\n",
    "print(y_pred)\n",
    "\n",
    "finish_time=time.time()\n",
    "time_taken=finish_time-start_time\n",
    "print(time_taken*1000,\"ms\")"
   ]
  },
  {
   "cell_type": "markdown",
   "id": "8eb0d3f4",
   "metadata": {},
   "source": [
    "#### 8. Ridge Classifier"
   ]
  },
  {
   "cell_type": "code",
   "execution_count": 41,
   "id": "22e52a48",
   "metadata": {},
   "outputs": [
    {
     "name": "stdout",
     "output_type": "stream",
     "text": [
      "[1 1 1 1 1 1 1 1 1 1 1 1 1 1 1 1 1 1 1 1 1 1 1 1 1 1 1 1 1 1 1 1 1 1 1 1 1\n",
      " 1 1 1 1 1 1 1 1 1 1 1 1 1 1 1 1 1 1 1 1 1 1 1 1 1 1 1 1 1 1 1 1 1 1 1 1 1\n",
      " 1 1 1 1 1 1 1 1 1 1 1 1 1 1 1 1 1 1 1 1 1 1 1 1 1 1 1 1 1 1 1 1 1 1 1 1 1\n",
      " 1 1 1 1 1 1 1 1 1 1 1 1 1 1 1 1 1 1 1 1 1 1 1 1 1 1 1 1 1 1 1 1 1 1 1 1 1\n",
      " 1 1 1 1 1 1 1 1 1 1 1 1 1 1]\n",
      "6.302833557128906 ms\n"
     ]
    }
   ],
   "source": [
    "start_time=time.time()\n",
    "rg_model = joblib.load('rg_river_model')\n",
    "\n",
    "y_pred = rg_model.predict(features)\n",
    "print(y_pred)\n",
    "\n",
    "finish_time=time.time()\n",
    "time_taken=finish_time-start_time\n",
    "print(time_taken*1000,\"ms\")"
   ]
  },
  {
   "cell_type": "markdown",
   "id": "9fab7668",
   "metadata": {},
   "source": [
    "#### 9. Logistic Regression"
   ]
  },
  {
   "cell_type": "code",
   "execution_count": 42,
   "id": "0f4f9c0b",
   "metadata": {},
   "outputs": [
    {
     "name": "stdout",
     "output_type": "stream",
     "text": [
      "[1 1 1 1 1 1 1 1 1 1 1 1 1 1 1 1 1 1 1 1 1 1 1 1 1 1 1 1 1 1 1 1 1 1 1 1 1\n",
      " 1 1 1 1 1 1 1 1 1 1 1 1 1 1 1 1 1 1 1 1 1 1 1 1 1 1 1 1 1 1 1 1 1 1 1 1 1\n",
      " 1 1 1 1 1 1 1 1 1 1 1 1 1 1 1 1 1 1 1 1 1 1 1 1 1 1 1 1 1 1 1 1 1 1 1 1 1\n",
      " 1 1 1 1 1 1 1 1 1 1 1 1 1 1 1 1 1 1 1 1 1 1 1 1 1 1 1 1 1 1 1 1 1 1 1 1 1\n",
      " 1 1 1 1 1 1 1 1 1 1 1 1 1 1]\n",
      "5.9967041015625 ms\n"
     ]
    }
   ],
   "source": [
    "start_time=time.time()\n",
    "logr_model = joblib.load('logr_river_model')\n",
    "\n",
    "y_pred = logr_model.predict(features)\n",
    "print(y_pred)\n",
    "\n",
    "finish_time=time.time()\n",
    "time_taken=finish_time-start_time\n",
    "print(time_taken*1000,\"ms\")"
   ]
  },
  {
   "cell_type": "code",
   "execution_count": null,
   "id": "16e6d6ba",
   "metadata": {},
   "outputs": [],
   "source": []
  },
  {
   "cell_type": "code",
   "execution_count": null,
   "id": "f1528e49",
   "metadata": {},
   "outputs": [],
   "source": []
  }
 ],
 "metadata": {
  "kernelspec": {
   "display_name": "Python 3",
   "language": "python",
   "name": "python3"
  },
  "language_info": {
   "codemirror_mode": {
    "name": "ipython",
    "version": 3
   },
   "file_extension": ".py",
   "mimetype": "text/x-python",
   "name": "python",
   "nbconvert_exporter": "python",
   "pygments_lexer": "ipython3",
   "version": "3.8.8"
  }
 },
 "nbformat": 4,
 "nbformat_minor": 5
}
