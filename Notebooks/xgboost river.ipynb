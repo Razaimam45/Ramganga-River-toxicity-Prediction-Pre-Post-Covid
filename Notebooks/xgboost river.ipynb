{
 "cells": [
  {
   "cell_type": "code",
   "execution_count": 1,
   "id": "2063ca3e",
   "metadata": {},
   "outputs": [],
   "source": [
    "import xgboost as xgb\n",
    "from sklearn.linear_model import LogisticRegression\n",
    "from sklearn.svm import SVC\n",
    "from sklearn.tree import DecisionTreeClassifier\n",
    "from sklearn.ensemble import RandomForestClassifier\n",
    "from sklearn.naive_bayes import GaussianNB, MultinomialNB\n",
    "from sklearn.linear_model import RidgeClassifier\n",
    "from lightgbm import LGBMClassifier\n",
    "\n",
    "import pandas as pd\n",
    "from sklearn.model_selection import train_test_split\n",
    "from sklearn.metrics import r2_score, auc\n",
    "import numpy as np\n",
    "from sklearn.model_selection import cross_val_score\n",
    "import time as time\n",
    "import joblib"
   ]
  },
  {
   "cell_type": "code",
   "execution_count": 2,
   "id": "688bec85",
   "metadata": {},
   "outputs": [
    {
     "data": {
      "text/plain": [
       "S. No.        int64\n",
       "River        object\n",
       "As          float64\n",
       "Cd          float64\n",
       "Ni          float64\n",
       "Fe          float64\n",
       "Pb          float64\n",
       "Zn          float64\n",
       "Toxicity      int64\n",
       "dtype: object"
      ]
     },
     "execution_count": 2,
     "metadata": {},
     "output_type": "execute_result"
    }
   ],
   "source": [
    "df = pd.read_csv('river_data.csv')\n",
    "df.dtypes"
   ]
  },
  {
   "cell_type": "code",
   "execution_count": 3,
   "id": "4207bff4",
   "metadata": {},
   "outputs": [
    {
     "data": {
      "text/plain": [
       "Index([], dtype='object')"
      ]
     },
     "execution_count": 3,
     "metadata": {},
     "output_type": "execute_result"
    }
   ],
   "source": [
    "df.columns[df.isna().any()]"
   ]
  },
  {
   "cell_type": "markdown",
   "id": "9b038ba6",
   "metadata": {},
   "source": [
    "##### Label Encoding"
   ]
  },
  {
   "cell_type": "code",
   "execution_count": 4,
   "id": "82b8e211",
   "metadata": {},
   "outputs": [
    {
     "data": {
      "text/html": [
       "<div>\n",
       "<style scoped>\n",
       "    .dataframe tbody tr th:only-of-type {\n",
       "        vertical-align: middle;\n",
       "    }\n",
       "\n",
       "    .dataframe tbody tr th {\n",
       "        vertical-align: top;\n",
       "    }\n",
       "\n",
       "    .dataframe thead th {\n",
       "        text-align: right;\n",
       "    }\n",
       "</style>\n",
       "<table border=\"1\" class=\"dataframe\">\n",
       "  <thead>\n",
       "    <tr style=\"text-align: right;\">\n",
       "      <th></th>\n",
       "      <th>S. No.</th>\n",
       "      <th>River</th>\n",
       "      <th>As</th>\n",
       "      <th>Cd</th>\n",
       "      <th>Ni</th>\n",
       "      <th>Fe</th>\n",
       "      <th>Pb</th>\n",
       "      <th>Zn</th>\n",
       "      <th>Toxicity</th>\n",
       "    </tr>\n",
       "  </thead>\n",
       "  <tbody>\n",
       "    <tr>\n",
       "      <th>0</th>\n",
       "      <td>1</td>\n",
       "      <td>Parwati</td>\n",
       "      <td>0.896</td>\n",
       "      <td>0.083</td>\n",
       "      <td>2.070</td>\n",
       "      <td>0.048</td>\n",
       "      <td>2.386</td>\n",
       "      <td>0.008</td>\n",
       "      <td>0</td>\n",
       "    </tr>\n",
       "    <tr>\n",
       "      <th>1</th>\n",
       "      <td>2</td>\n",
       "      <td>Chittar</td>\n",
       "      <td>1.470</td>\n",
       "      <td>0.483</td>\n",
       "      <td>6.098</td>\n",
       "      <td>0.029</td>\n",
       "      <td>1.062</td>\n",
       "      <td>0.008</td>\n",
       "      <td>0</td>\n",
       "    </tr>\n",
       "    <tr>\n",
       "      <th>2</th>\n",
       "      <td>3</td>\n",
       "      <td>Barak</td>\n",
       "      <td>2.899</td>\n",
       "      <td>0.087</td>\n",
       "      <td>1.282</td>\n",
       "      <td>0.060</td>\n",
       "      <td>1.544</td>\n",
       "      <td>0.015</td>\n",
       "      <td>1</td>\n",
       "    </tr>\n",
       "    <tr>\n",
       "      <th>3</th>\n",
       "      <td>4</td>\n",
       "      <td>Yamuna</td>\n",
       "      <td>5.130</td>\n",
       "      <td>0.217</td>\n",
       "      <td>4.345</td>\n",
       "      <td>0.098</td>\n",
       "      <td>2.091</td>\n",
       "      <td>0.020</td>\n",
       "      <td>1</td>\n",
       "    </tr>\n",
       "    <tr>\n",
       "      <th>4</th>\n",
       "      <td>5</td>\n",
       "      <td>Banas</td>\n",
       "      <td>2.270</td>\n",
       "      <td>0.197</td>\n",
       "      <td>2.684</td>\n",
       "      <td>0.082</td>\n",
       "      <td>1.668</td>\n",
       "      <td>0.011</td>\n",
       "      <td>1</td>\n",
       "    </tr>\n",
       "    <tr>\n",
       "      <th>...</th>\n",
       "      <td>...</td>\n",
       "      <td>...</td>\n",
       "      <td>...</td>\n",
       "      <td>...</td>\n",
       "      <td>...</td>\n",
       "      <td>...</td>\n",
       "      <td>...</td>\n",
       "      <td>...</td>\n",
       "      <td>...</td>\n",
       "    </tr>\n",
       "    <tr>\n",
       "      <th>195</th>\n",
       "      <td>196</td>\n",
       "      <td>Wainganga</td>\n",
       "      <td>2.188</td>\n",
       "      <td>0.191</td>\n",
       "      <td>3.693</td>\n",
       "      <td>0.115</td>\n",
       "      <td>2.006</td>\n",
       "      <td>0.010</td>\n",
       "      <td>1</td>\n",
       "    </tr>\n",
       "    <tr>\n",
       "      <th>196</th>\n",
       "      <td>197</td>\n",
       "      <td>Tel</td>\n",
       "      <td>2.170</td>\n",
       "      <td>0.283</td>\n",
       "      <td>6.793</td>\n",
       "      <td>0.056</td>\n",
       "      <td>2.435</td>\n",
       "      <td>0.010</td>\n",
       "      <td>1</td>\n",
       "    </tr>\n",
       "    <tr>\n",
       "      <th>197</th>\n",
       "      <td>198</td>\n",
       "      <td>Teesta</td>\n",
       "      <td>7.390</td>\n",
       "      <td>0.104</td>\n",
       "      <td>2.455</td>\n",
       "      <td>0.712</td>\n",
       "      <td>2.284</td>\n",
       "      <td>0.033</td>\n",
       "      <td>1</td>\n",
       "    </tr>\n",
       "    <tr>\n",
       "      <th>198</th>\n",
       "      <td>199</td>\n",
       "      <td>Mahi</td>\n",
       "      <td>2.282</td>\n",
       "      <td>0.174</td>\n",
       "      <td>2.930</td>\n",
       "      <td>0.240</td>\n",
       "      <td>3.110</td>\n",
       "      <td>0.010</td>\n",
       "      <td>1</td>\n",
       "    </tr>\n",
       "    <tr>\n",
       "      <th>199</th>\n",
       "      <td>200</td>\n",
       "      <td>Surma/Myntdu</td>\n",
       "      <td>1.387</td>\n",
       "      <td>0.134</td>\n",
       "      <td>2.634</td>\n",
       "      <td>0.047</td>\n",
       "      <td>3.546</td>\n",
       "      <td>0.059</td>\n",
       "      <td>1</td>\n",
       "    </tr>\n",
       "  </tbody>\n",
       "</table>\n",
       "<p>200 rows × 9 columns</p>\n",
       "</div>"
      ],
      "text/plain": [
       "     S. No.         River     As     Cd     Ni     Fe     Pb     Zn  Toxicity\n",
       "0         1       Parwati  0.896  0.083  2.070  0.048  2.386  0.008         0\n",
       "1         2       Chittar  1.470  0.483  6.098  0.029  1.062  0.008         0\n",
       "2         3         Barak  2.899  0.087  1.282  0.060  1.544  0.015         1\n",
       "3         4        Yamuna  5.130  0.217  4.345  0.098  2.091  0.020         1\n",
       "4         5         Banas  2.270  0.197  2.684  0.082  1.668  0.011         1\n",
       "..      ...           ...    ...    ...    ...    ...    ...    ...       ...\n",
       "195     196     Wainganga  2.188  0.191  3.693  0.115  2.006  0.010         1\n",
       "196     197           Tel  2.170  0.283  6.793  0.056  2.435  0.010         1\n",
       "197     198        Teesta  7.390  0.104  2.455  0.712  2.284  0.033         1\n",
       "198     199          Mahi  2.282  0.174  2.930  0.240  3.110  0.010         1\n",
       "199     200  Surma/Myntdu  1.387  0.134  2.634  0.047  3.546  0.059         1\n",
       "\n",
       "[200 rows x 9 columns]"
      ]
     },
     "execution_count": 4,
     "metadata": {},
     "output_type": "execute_result"
    }
   ],
   "source": [
    "df"
   ]
  },
  {
   "cell_type": "code",
   "execution_count": 5,
   "id": "e05357f8",
   "metadata": {},
   "outputs": [
    {
     "data": {
      "text/plain": [
       "134"
      ]
     },
     "execution_count": 5,
     "metadata": {},
     "output_type": "execute_result"
    }
   ],
   "source": [
    "len(df['River'].unique())"
   ]
  },
  {
   "cell_type": "code",
   "execution_count": 6,
   "id": "f4366912",
   "metadata": {},
   "outputs": [
    {
     "data": {
      "text/plain": [
       "(200, 9)"
      ]
     },
     "execution_count": 6,
     "metadata": {},
     "output_type": "execute_result"
    }
   ],
   "source": [
    "df.shape"
   ]
  },
  {
   "cell_type": "code",
   "execution_count": 7,
   "id": "9b74c28e",
   "metadata": {},
   "outputs": [
    {
     "data": {
      "text/html": [
       "<div>\n",
       "<style scoped>\n",
       "    .dataframe tbody tr th:only-of-type {\n",
       "        vertical-align: middle;\n",
       "    }\n",
       "\n",
       "    .dataframe tbody tr th {\n",
       "        vertical-align: top;\n",
       "    }\n",
       "\n",
       "    .dataframe thead th {\n",
       "        text-align: right;\n",
       "    }\n",
       "</style>\n",
       "<table border=\"1\" class=\"dataframe\">\n",
       "  <thead>\n",
       "    <tr style=\"text-align: right;\">\n",
       "      <th></th>\n",
       "      <th>As</th>\n",
       "      <th>Cd</th>\n",
       "      <th>Ni</th>\n",
       "      <th>Fe</th>\n",
       "      <th>Pb</th>\n",
       "      <th>Zn</th>\n",
       "      <th>Toxicity</th>\n",
       "    </tr>\n",
       "  </thead>\n",
       "  <tbody>\n",
       "    <tr>\n",
       "      <th>0</th>\n",
       "      <td>0.896</td>\n",
       "      <td>0.083</td>\n",
       "      <td>2.070</td>\n",
       "      <td>0.048</td>\n",
       "      <td>2.386</td>\n",
       "      <td>0.008</td>\n",
       "      <td>0</td>\n",
       "    </tr>\n",
       "    <tr>\n",
       "      <th>1</th>\n",
       "      <td>1.470</td>\n",
       "      <td>0.483</td>\n",
       "      <td>6.098</td>\n",
       "      <td>0.029</td>\n",
       "      <td>1.062</td>\n",
       "      <td>0.008</td>\n",
       "      <td>0</td>\n",
       "    </tr>\n",
       "    <tr>\n",
       "      <th>2</th>\n",
       "      <td>2.899</td>\n",
       "      <td>0.087</td>\n",
       "      <td>1.282</td>\n",
       "      <td>0.060</td>\n",
       "      <td>1.544</td>\n",
       "      <td>0.015</td>\n",
       "      <td>1</td>\n",
       "    </tr>\n",
       "    <tr>\n",
       "      <th>3</th>\n",
       "      <td>5.130</td>\n",
       "      <td>0.217</td>\n",
       "      <td>4.345</td>\n",
       "      <td>0.098</td>\n",
       "      <td>2.091</td>\n",
       "      <td>0.020</td>\n",
       "      <td>1</td>\n",
       "    </tr>\n",
       "    <tr>\n",
       "      <th>4</th>\n",
       "      <td>2.270</td>\n",
       "      <td>0.197</td>\n",
       "      <td>2.684</td>\n",
       "      <td>0.082</td>\n",
       "      <td>1.668</td>\n",
       "      <td>0.011</td>\n",
       "      <td>1</td>\n",
       "    </tr>\n",
       "    <tr>\n",
       "      <th>...</th>\n",
       "      <td>...</td>\n",
       "      <td>...</td>\n",
       "      <td>...</td>\n",
       "      <td>...</td>\n",
       "      <td>...</td>\n",
       "      <td>...</td>\n",
       "      <td>...</td>\n",
       "    </tr>\n",
       "    <tr>\n",
       "      <th>195</th>\n",
       "      <td>2.188</td>\n",
       "      <td>0.191</td>\n",
       "      <td>3.693</td>\n",
       "      <td>0.115</td>\n",
       "      <td>2.006</td>\n",
       "      <td>0.010</td>\n",
       "      <td>1</td>\n",
       "    </tr>\n",
       "    <tr>\n",
       "      <th>196</th>\n",
       "      <td>2.170</td>\n",
       "      <td>0.283</td>\n",
       "      <td>6.793</td>\n",
       "      <td>0.056</td>\n",
       "      <td>2.435</td>\n",
       "      <td>0.010</td>\n",
       "      <td>1</td>\n",
       "    </tr>\n",
       "    <tr>\n",
       "      <th>197</th>\n",
       "      <td>7.390</td>\n",
       "      <td>0.104</td>\n",
       "      <td>2.455</td>\n",
       "      <td>0.712</td>\n",
       "      <td>2.284</td>\n",
       "      <td>0.033</td>\n",
       "      <td>1</td>\n",
       "    </tr>\n",
       "    <tr>\n",
       "      <th>198</th>\n",
       "      <td>2.282</td>\n",
       "      <td>0.174</td>\n",
       "      <td>2.930</td>\n",
       "      <td>0.240</td>\n",
       "      <td>3.110</td>\n",
       "      <td>0.010</td>\n",
       "      <td>1</td>\n",
       "    </tr>\n",
       "    <tr>\n",
       "      <th>199</th>\n",
       "      <td>1.387</td>\n",
       "      <td>0.134</td>\n",
       "      <td>2.634</td>\n",
       "      <td>0.047</td>\n",
       "      <td>3.546</td>\n",
       "      <td>0.059</td>\n",
       "      <td>1</td>\n",
       "    </tr>\n",
       "  </tbody>\n",
       "</table>\n",
       "<p>200 rows × 7 columns</p>\n",
       "</div>"
      ],
      "text/plain": [
       "        As     Cd     Ni     Fe     Pb     Zn  Toxicity\n",
       "0    0.896  0.083  2.070  0.048  2.386  0.008         0\n",
       "1    1.470  0.483  6.098  0.029  1.062  0.008         0\n",
       "2    2.899  0.087  1.282  0.060  1.544  0.015         1\n",
       "3    5.130  0.217  4.345  0.098  2.091  0.020         1\n",
       "4    2.270  0.197  2.684  0.082  1.668  0.011         1\n",
       "..     ...    ...    ...    ...    ...    ...       ...\n",
       "195  2.188  0.191  3.693  0.115  2.006  0.010         1\n",
       "196  2.170  0.283  6.793  0.056  2.435  0.010         1\n",
       "197  7.390  0.104  2.455  0.712  2.284  0.033         1\n",
       "198  2.282  0.174  2.930  0.240  3.110  0.010         1\n",
       "199  1.387  0.134  2.634  0.047  3.546  0.059         1\n",
       "\n",
       "[200 rows x 7 columns]"
      ]
     },
     "execution_count": 7,
     "metadata": {},
     "output_type": "execute_result"
    }
   ],
   "source": [
    "df.drop(['S. No.','River'], axis=True, inplace=True)\n",
    "df"
   ]
  },
  {
   "cell_type": "code",
   "execution_count": 8,
   "id": "037ecdf3",
   "metadata": {},
   "outputs": [],
   "source": [
    "features = df.drop(['Toxicity'],axis='columns')\n",
    "labels = df['Toxicity']"
   ]
  },
  {
   "cell_type": "code",
   "execution_count": 9,
   "id": "e490a354",
   "metadata": {},
   "outputs": [
    {
     "data": {
      "text/html": [
       "<div>\n",
       "<style scoped>\n",
       "    .dataframe tbody tr th:only-of-type {\n",
       "        vertical-align: middle;\n",
       "    }\n",
       "\n",
       "    .dataframe tbody tr th {\n",
       "        vertical-align: top;\n",
       "    }\n",
       "\n",
       "    .dataframe thead th {\n",
       "        text-align: right;\n",
       "    }\n",
       "</style>\n",
       "<table border=\"1\" class=\"dataframe\">\n",
       "  <thead>\n",
       "    <tr style=\"text-align: right;\">\n",
       "      <th></th>\n",
       "      <th>As</th>\n",
       "      <th>Cd</th>\n",
       "      <th>Ni</th>\n",
       "      <th>Fe</th>\n",
       "      <th>Pb</th>\n",
       "      <th>Zn</th>\n",
       "    </tr>\n",
       "  </thead>\n",
       "  <tbody>\n",
       "    <tr>\n",
       "      <th>0</th>\n",
       "      <td>0.896</td>\n",
       "      <td>0.083</td>\n",
       "      <td>2.070</td>\n",
       "      <td>0.048</td>\n",
       "      <td>2.386</td>\n",
       "      <td>0.008</td>\n",
       "    </tr>\n",
       "    <tr>\n",
       "      <th>1</th>\n",
       "      <td>1.470</td>\n",
       "      <td>0.483</td>\n",
       "      <td>6.098</td>\n",
       "      <td>0.029</td>\n",
       "      <td>1.062</td>\n",
       "      <td>0.008</td>\n",
       "    </tr>\n",
       "    <tr>\n",
       "      <th>2</th>\n",
       "      <td>2.899</td>\n",
       "      <td>0.087</td>\n",
       "      <td>1.282</td>\n",
       "      <td>0.060</td>\n",
       "      <td>1.544</td>\n",
       "      <td>0.015</td>\n",
       "    </tr>\n",
       "    <tr>\n",
       "      <th>3</th>\n",
       "      <td>5.130</td>\n",
       "      <td>0.217</td>\n",
       "      <td>4.345</td>\n",
       "      <td>0.098</td>\n",
       "      <td>2.091</td>\n",
       "      <td>0.020</td>\n",
       "    </tr>\n",
       "    <tr>\n",
       "      <th>4</th>\n",
       "      <td>2.270</td>\n",
       "      <td>0.197</td>\n",
       "      <td>2.684</td>\n",
       "      <td>0.082</td>\n",
       "      <td>1.668</td>\n",
       "      <td>0.011</td>\n",
       "    </tr>\n",
       "    <tr>\n",
       "      <th>...</th>\n",
       "      <td>...</td>\n",
       "      <td>...</td>\n",
       "      <td>...</td>\n",
       "      <td>...</td>\n",
       "      <td>...</td>\n",
       "      <td>...</td>\n",
       "    </tr>\n",
       "    <tr>\n",
       "      <th>195</th>\n",
       "      <td>2.188</td>\n",
       "      <td>0.191</td>\n",
       "      <td>3.693</td>\n",
       "      <td>0.115</td>\n",
       "      <td>2.006</td>\n",
       "      <td>0.010</td>\n",
       "    </tr>\n",
       "    <tr>\n",
       "      <th>196</th>\n",
       "      <td>2.170</td>\n",
       "      <td>0.283</td>\n",
       "      <td>6.793</td>\n",
       "      <td>0.056</td>\n",
       "      <td>2.435</td>\n",
       "      <td>0.010</td>\n",
       "    </tr>\n",
       "    <tr>\n",
       "      <th>197</th>\n",
       "      <td>7.390</td>\n",
       "      <td>0.104</td>\n",
       "      <td>2.455</td>\n",
       "      <td>0.712</td>\n",
       "      <td>2.284</td>\n",
       "      <td>0.033</td>\n",
       "    </tr>\n",
       "    <tr>\n",
       "      <th>198</th>\n",
       "      <td>2.282</td>\n",
       "      <td>0.174</td>\n",
       "      <td>2.930</td>\n",
       "      <td>0.240</td>\n",
       "      <td>3.110</td>\n",
       "      <td>0.010</td>\n",
       "    </tr>\n",
       "    <tr>\n",
       "      <th>199</th>\n",
       "      <td>1.387</td>\n",
       "      <td>0.134</td>\n",
       "      <td>2.634</td>\n",
       "      <td>0.047</td>\n",
       "      <td>3.546</td>\n",
       "      <td>0.059</td>\n",
       "    </tr>\n",
       "  </tbody>\n",
       "</table>\n",
       "<p>200 rows × 6 columns</p>\n",
       "</div>"
      ],
      "text/plain": [
       "        As     Cd     Ni     Fe     Pb     Zn\n",
       "0    0.896  0.083  2.070  0.048  2.386  0.008\n",
       "1    1.470  0.483  6.098  0.029  1.062  0.008\n",
       "2    2.899  0.087  1.282  0.060  1.544  0.015\n",
       "3    5.130  0.217  4.345  0.098  2.091  0.020\n",
       "4    2.270  0.197  2.684  0.082  1.668  0.011\n",
       "..     ...    ...    ...    ...    ...    ...\n",
       "195  2.188  0.191  3.693  0.115  2.006  0.010\n",
       "196  2.170  0.283  6.793  0.056  2.435  0.010\n",
       "197  7.390  0.104  2.455  0.712  2.284  0.033\n",
       "198  2.282  0.174  2.930  0.240  3.110  0.010\n",
       "199  1.387  0.134  2.634  0.047  3.546  0.059\n",
       "\n",
       "[200 rows x 6 columns]"
      ]
     },
     "execution_count": 9,
     "metadata": {},
     "output_type": "execute_result"
    }
   ],
   "source": [
    "features"
   ]
  },
  {
   "cell_type": "code",
   "execution_count": 10,
   "id": "d56d07d9",
   "metadata": {},
   "outputs": [
    {
     "data": {
      "text/plain": [
       "0      0\n",
       "1      0\n",
       "2      1\n",
       "3      1\n",
       "4      1\n",
       "      ..\n",
       "195    1\n",
       "196    1\n",
       "197    1\n",
       "198    1\n",
       "199    1\n",
       "Name: Toxicity, Length: 200, dtype: int64"
      ]
     },
     "execution_count": 10,
     "metadata": {},
     "output_type": "execute_result"
    }
   ],
   "source": [
    "labels"
   ]
  },
  {
   "cell_type": "code",
   "execution_count": null,
   "id": "70b392d6",
   "metadata": {},
   "outputs": [],
   "source": []
  },
  {
   "cell_type": "markdown",
   "id": "ed65cd62",
   "metadata": {},
   "source": [
    "### In ML, LightGBM, XGBoost, RandomForest, DecisionTree, Multinomial NaiveBayes, Gaussian NaiveBayes, SVM, Ridge Classifier and Logistic Regression. Total of 9 in ML"
   ]
  },
  {
   "cell_type": "markdown",
   "id": "298c9634",
   "metadata": {},
   "source": [
    "#### 1. Using LightGBM"
   ]
  },
  {
   "cell_type": "code",
   "execution_count": 34,
   "id": "b8124d74",
   "metadata": {},
   "outputs": [
    {
     "name": "stdout",
     "output_type": "stream",
     "text": [
      "[1 1 0 1 1 1 1 1 1 0 1 1 1 1 0 1 1 1 1 1 1 1 1 1 1 1 1 1 1 1 1 1 0 1 0 1 0\n",
      " 1 1 1]\n",
      "0.95\n",
      "61.00034713745117 ms\n"
     ]
    },
    {
     "data": {
      "text/plain": [
       "['lgb_river_model']"
      ]
     },
     "execution_count": 34,
     "metadata": {},
     "output_type": "execute_result"
    }
   ],
   "source": [
    "start_time=time.time()\n",
    "X_train, X_test, y_train, y_test = train_test_split(features, labels, test_size =0.2,random_state=40)\n",
    "\n",
    "lgb_model = LGBMClassifier()\n",
    "lgb_model.fit(X_train, y_train,)\n",
    "\n",
    "y_pred = lgb_model.predict(X_test)\n",
    "print(y_pred)\n",
    "\n",
    "print(lgb_model.score(X_test,y_test))\n",
    "\n",
    "finish_time=time.time()\n",
    "time_taken=finish_time-start_time\n",
    "print(time_taken*1000,\"ms\")\n",
    "\n",
    "joblib.dump(lgb_model,'lgb_river_model')"
   ]
  },
  {
   "cell_type": "code",
   "execution_count": null,
   "id": "4222686f",
   "metadata": {},
   "outputs": [],
   "source": []
  },
  {
   "cell_type": "markdown",
   "id": "f3199edf",
   "metadata": {},
   "source": [
    "###### 2. Using XGBOOST Classifier"
   ]
  },
  {
   "cell_type": "code",
   "execution_count": 35,
   "id": "85cba43d",
   "metadata": {},
   "outputs": [
    {
     "name": "stdout",
     "output_type": "stream",
     "text": [
      "[12:15:45] WARNING: C:/Users/Administrator/workspace/xgboost-win64_release_1.4.0/src/learner.cc:1095: Starting in XGBoost 1.3.0, the default evaluation metric used with the objective 'binary:logistic' was changed from 'error' to 'logloss'. Explicitly set eval_metric if you'd like to restore the old behavior.\n",
      "[1 1 0 1 1 1 1 1 1 1 1 1 1 1 0 1 1 1 1 1 1 1 1 1 1 1 1 1 1 1 1 1 0 1 0 1 0\n",
      " 1 1 1]\n",
      "0.975\n",
      "42.11854934692383 ms\n"
     ]
    },
    {
     "name": "stderr",
     "output_type": "stream",
     "text": [
      "C:\\ProgramData\\Anaconda3\\lib\\site-packages\\xgboost\\sklearn.py:1146: UserWarning: The use of label encoder in XGBClassifier is deprecated and will be removed in a future release. To remove this warning, do the following: 1) Pass option use_label_encoder=False when constructing XGBClassifier object; and 2) Encode your labels (y) as integers starting with 0, i.e. 0, 1, 2, ..., [num_class - 1].\n",
      "  warnings.warn(label_encoder_deprecation_msg, UserWarning)\n"
     ]
    },
    {
     "data": {
      "text/plain": [
       "['xgb_river_model']"
      ]
     },
     "execution_count": 35,
     "metadata": {},
     "output_type": "execute_result"
    }
   ],
   "source": [
    "start_time=time.time()\n",
    "X_train, X_test, y_train, y_test = train_test_split(features, labels, test_size =0.2,random_state=40)\n",
    "\n",
    "xg_model = xgb.XGBClassifier(n_estimators=30, gamma=2)\n",
    "xg_model.fit(X_train, y_train)\n",
    "\n",
    "y_pred = xg_model.predict(X_test)\n",
    "print(y_pred)\n",
    "\n",
    "print(xg_model.score(X_test,y_test))\n",
    "\n",
    "finish_time=time.time()\n",
    "time_taken=finish_time-start_time\n",
    "print(time_taken*1000,\"ms\")\n",
    "\n",
    "joblib.dump(xg_model,'xgb_river_model')"
   ]
  },
  {
   "cell_type": "markdown",
   "id": "d1f53139",
   "metadata": {},
   "source": [
    "###### 3. Using RandomForest Classifier"
   ]
  },
  {
   "cell_type": "code",
   "execution_count": 36,
   "id": "ea7a912f",
   "metadata": {},
   "outputs": [
    {
     "name": "stdout",
     "output_type": "stream",
     "text": [
      "[0 1 1 1 1 1 1 1 1 1 1 0 1 1 1 1 1 1 0 1 1 1 1 1 1 1 1 1 1 1 1 1 1 1 1 1 1\n",
      " 1 1 1]\n",
      "0.975\n",
      "85.51406860351562 ms\n"
     ]
    },
    {
     "data": {
      "text/plain": [
       "['rf_river_model']"
      ]
     },
     "execution_count": 36,
     "metadata": {},
     "output_type": "execute_result"
    }
   ],
   "source": [
    "start_time=time.time()\n",
    "X_train, X_test, y_train, y_test = train_test_split(features, labels, test_size = 0.2, random_state=42)\n",
    "\n",
    "rf_model = RandomForestClassifier(n_estimators=42)\n",
    "rf_model.fit(X_train, y_train)\n",
    "\n",
    "y_pred = rf_model.predict(X_test)\n",
    "print(y_pred)\n",
    "\n",
    "print(rf_model.score(X_test,y_test))\n",
    "\n",
    "finish_time=time.time()\n",
    "time_taken=finish_time-start_time\n",
    "print(time_taken*1000,\"ms\")\n",
    "\n",
    "joblib.dump(rf_model,'rf_river_model')"
   ]
  },
  {
   "cell_type": "markdown",
   "id": "e57be3f9",
   "metadata": {},
   "source": [
    "#### 4. Decision Tree Classifier"
   ]
  },
  {
   "cell_type": "code",
   "execution_count": 43,
   "id": "7a76313f",
   "metadata": {},
   "outputs": [
    {
     "name": "stdout",
     "output_type": "stream",
     "text": [
      "[1 1 0 1 1 1 1 1 1 1 1 1 1 1 0 1 1 1 1 1 1 1 1 1 1 1 1 1 1 1 1 1 0 0 0 1 0\n",
      " 1 1 0]\n",
      "0.925\n",
      "14.509201049804688 ms\n"
     ]
    },
    {
     "data": {
      "text/plain": [
       "['dt_river_model']"
      ]
     },
     "execution_count": 43,
     "metadata": {},
     "output_type": "execute_result"
    }
   ],
   "source": [
    "start_time=time.time()\n",
    "X_train, X_test, y_train, y_test = train_test_split(features, labels, test_size = 0.2, random_state=40)\n",
    "\n",
    "dt_model = DecisionTreeClassifier()\n",
    "dt_model.fit(X_train, y_train)\n",
    "\n",
    "y_pred = dt_model.predict(X_test)\n",
    "print(y_pred)\n",
    "\n",
    "print(dt_model.score(X_test,y_test))\n",
    "\n",
    "finish_time=time.time()\n",
    "time_taken=finish_time-start_time\n",
    "print(time_taken*1000,\"ms\")\n",
    "\n",
    "joblib.dump(dt_model,'dt_river_model')"
   ]
  },
  {
   "cell_type": "markdown",
   "id": "d290b874",
   "metadata": {},
   "source": [
    "#### 5. Multinomial Naive Bayes"
   ]
  },
  {
   "cell_type": "code",
   "execution_count": 44,
   "id": "2c0b9594",
   "metadata": {},
   "outputs": [
    {
     "name": "stdout",
     "output_type": "stream",
     "text": [
      "[1 1 1 1 1 1 1 1 1 1 1 1 1 1 1 1 1 1 1 1 1 1 1 1 1 1 1 1 1 1 1 1 1 1 1 1 1\n",
      " 1 1 1]\n",
      "0.925\n",
      "13.502359390258789 ms\n"
     ]
    },
    {
     "data": {
      "text/plain": [
       "['mnb_river_model']"
      ]
     },
     "execution_count": 44,
     "metadata": {},
     "output_type": "execute_result"
    }
   ],
   "source": [
    "start_time=time.time()\n",
    "X_train, X_test, y_train, y_test = train_test_split(features, labels, test_size = 0.2, random_state=2)\n",
    "\n",
    "mnb_model = MultinomialNB(alpha=12)\n",
    "mnb_model.fit(X_train, y_train)\n",
    "\n",
    "y_pred = mnb_model.predict(X_test)\n",
    "print(y_pred)\n",
    "\n",
    "print(mnb_model.score(X_test,y_test))\n",
    "\n",
    "finish_time=time.time()\n",
    "time_taken=finish_time-start_time\n",
    "print(time_taken*1000,\"ms\")\n",
    "\n",
    "joblib.dump(mnb_model,'mnb_river_model')"
   ]
  },
  {
   "cell_type": "markdown",
   "id": "70ac40fb",
   "metadata": {},
   "source": [
    "#### 6. Gaussian Naive Bayes"
   ]
  },
  {
   "cell_type": "code",
   "execution_count": 45,
   "id": "c2e49549",
   "metadata": {},
   "outputs": [
    {
     "name": "stdout",
     "output_type": "stream",
     "text": [
      "[0 1 1 0 1 1 1 1 1 0 0 1 0 1 0 0 1 1 1 0 1 0 1 1 0 1 1 1 1 1 1 1 1 0 1 1 0\n",
      " 1 0 1]\n",
      "0.9\n",
      "12.999773025512695 ms\n"
     ]
    },
    {
     "data": {
      "text/plain": [
       "['gnb_river_model']"
      ]
     },
     "execution_count": 45,
     "metadata": {},
     "output_type": "execute_result"
    }
   ],
   "source": [
    "start_time=time.time()\n",
    "X_train, X_test, y_train, y_test = train_test_split(features, labels, test_size = 0.2, random_state=13)\n",
    "\n",
    "gnb_model = GaussianNB()\n",
    "gnb_model.fit(X_train, y_train)\n",
    "\n",
    "y_pred = gnb_model.predict(X_test)\n",
    "print(y_pred)\n",
    "\n",
    "print(gnb_model.score(X_test,y_test))\n",
    "\n",
    "finish_time=time.time()\n",
    "time_taken=finish_time-start_time\n",
    "print(time_taken*1000,\"ms\")\n",
    "\n",
    "joblib.dump(gnb_model,'gnb_river_model')"
   ]
  },
  {
   "cell_type": "markdown",
   "id": "52eb1f5e",
   "metadata": {},
   "source": [
    "#### 7. SVM"
   ]
  },
  {
   "cell_type": "code",
   "execution_count": 46,
   "id": "780ca0dd",
   "metadata": {},
   "outputs": [
    {
     "name": "stdout",
     "output_type": "stream",
     "text": [
      "[1 1 1 1 1 1 1 1 1 1 1 1 1 1 1 1 1 1 1 1 1 1 1 1 1 1 1 1 1 1 1 1 1 1 1 1 1\n",
      " 1 0 1]\n",
      "0.925\n",
      "14.002323150634766 ms\n"
     ]
    },
    {
     "data": {
      "text/plain": [
       "['svm_river_model']"
      ]
     },
     "execution_count": 46,
     "metadata": {},
     "output_type": "execute_result"
    }
   ],
   "source": [
    "start_time=time.time()\n",
    "X_train, X_test, y_train, y_test = train_test_split(features, labels, test_size = 0.2, random_state=42)\n",
    "\n",
    "svm_model = SVC(C=2, kernel='poly')\n",
    "svm_model.fit(X_train, y_train)\n",
    "\n",
    "y_pred = svm_model.predict(X_test)\n",
    "print(y_pred)\n",
    "\n",
    "print(svm_model.score(X_test,y_test))\n",
    "\n",
    "finish_time=time.time()\n",
    "time_taken=finish_time-start_time\n",
    "print(time_taken*1000,\"ms\")\n",
    "\n",
    "joblib.dump(svm_model,'svm_river_model')"
   ]
  },
  {
   "cell_type": "markdown",
   "id": "8eb0d3f4",
   "metadata": {},
   "source": [
    "#### 8. Ridge Classifier"
   ]
  },
  {
   "cell_type": "code",
   "execution_count": 47,
   "id": "22e52a48",
   "metadata": {},
   "outputs": [
    {
     "name": "stdout",
     "output_type": "stream",
     "text": [
      "[1 1 1 1 1 1 1 1 1 1 1 1 1 1 1 1 1 1 1 1 1 1 1 1 1 1 1 1 1 1 1 1 1 1 1 1 1\n",
      " 1 1 1]\n",
      "0.95\n",
      "14.041900634765625 ms\n"
     ]
    },
    {
     "data": {
      "text/plain": [
       "['rg_river_model']"
      ]
     },
     "execution_count": 47,
     "metadata": {},
     "output_type": "execute_result"
    }
   ],
   "source": [
    "start_time=time.time()\n",
    "X_train, X_test, y_train, y_test = train_test_split(features, labels, test_size = 0.2,random_state=42)\n",
    "\n",
    "rg_model = RidgeClassifier(alpha=1)\n",
    "rg_model.fit(X_train, y_train)\n",
    "\n",
    "y_pred = rg_model.predict(X_test)\n",
    "print(y_pred)\n",
    "\n",
    "print(rg_model.score(X_test,y_test))\n",
    "\n",
    "finish_time=time.time()\n",
    "time_taken=finish_time-start_time\n",
    "print(time_taken*1000,\"ms\")\n",
    "\n",
    "joblib.dump(rg_model,'rg_river_model')"
   ]
  },
  {
   "cell_type": "markdown",
   "id": "f9245544",
   "metadata": {},
   "source": [
    "#### 9. Logistic Regression"
   ]
  },
  {
   "cell_type": "code",
   "execution_count": 48,
   "id": "b4fe1f2d",
   "metadata": {},
   "outputs": [
    {
     "name": "stdout",
     "output_type": "stream",
     "text": [
      "[1 1 1 1 1 1 1 1 1 1 1 1 1 1 1 1 1 1 1 1 1 1 1 1 1 1 1 1 1 1 1 1 1 1 1 1 1\n",
      " 1 1 1]\n",
      "0.95\n",
      "19.486188888549805 ms\n"
     ]
    },
    {
     "data": {
      "text/plain": [
       "['logr_river_model']"
      ]
     },
     "execution_count": 48,
     "metadata": {},
     "output_type": "execute_result"
    }
   ],
   "source": [
    "start_time=time.time()\n",
    "X_train, X_test, y_train, y_test = train_test_split(features, labels, test_size = 0.2,random_state=42)\n",
    "\n",
    "logr_model = LogisticRegression(C=1)\n",
    "logr_model.fit(X_train, y_train)\n",
    "\n",
    "y_pred = logr_model.predict(X_test)\n",
    "print(y_pred)\n",
    "\n",
    "print(logr_model.score(X_test,y_test))\n",
    "\n",
    "finish_time=time.time()\n",
    "time_taken=finish_time-start_time\n",
    "print(time_taken*1000,\"ms\")\n",
    "\n",
    "joblib.dump(logr_model,'logr_river_model')"
   ]
  },
  {
   "cell_type": "code",
   "execution_count": null,
   "id": "113fd3cd",
   "metadata": {},
   "outputs": [],
   "source": []
  },
  {
   "cell_type": "code",
   "execution_count": null,
   "id": "a4f9b831",
   "metadata": {},
   "outputs": [],
   "source": []
  },
  {
   "cell_type": "markdown",
   "id": "aaffec4d",
   "metadata": {},
   "source": [
    "### Stratified KFold Cross validation"
   ]
  },
  {
   "cell_type": "code",
   "execution_count": 21,
   "id": "b869bcc2",
   "metadata": {},
   "outputs": [
    {
     "name": "stdout",
     "output_type": "stream",
     "text": [
      "[0.875 0.875 0.9   0.85  0.85 ]\n",
      "Score: 0.8699999999999999\n",
      "101.51839256286621 ms\n"
     ]
    }
   ],
   "source": [
    "#Lightgbm\n",
    "start_time=time.time()\n",
    "lgb_score = cross_val_score(LGBMClassifier(n_estimators=50),features, labels)\n",
    "print(lgb_score)\n",
    "print(\"Score:\",np.average(lgb_score))\n",
    "\n",
    "finish_time=time.time()\n",
    "time_taken=finish_time-start_time\n",
    "print(time_taken*1000,\"ms\")"
   ]
  },
  {
   "cell_type": "code",
   "execution_count": null,
   "id": "3795964c",
   "metadata": {},
   "outputs": [],
   "source": []
  },
  {
   "cell_type": "code",
   "execution_count": 22,
   "id": "cf26d891",
   "metadata": {},
   "outputs": [
    {
     "name": "stdout",
     "output_type": "stream",
     "text": [
      "[12:14:49] WARNING: C:/Users/Administrator/workspace/xgboost-win64_release_1.4.0/src/learner.cc:1095: Starting in XGBoost 1.3.0, the default evaluation metric used with the objective 'binary:logistic' was changed from 'error' to 'logloss'. Explicitly set eval_metric if you'd like to restore the old behavior.\n",
      "[12:14:49] WARNING: C:/Users/Administrator/workspace/xgboost-win64_release_1.4.0/src/learner.cc:1095: Starting in XGBoost 1.3.0, the default evaluation metric used with the objective 'binary:logistic' was changed from 'error' to 'logloss'. Explicitly set eval_metric if you'd like to restore the old behavior.\n",
      "[12:14:49] WARNING: C:/Users/Administrator/workspace/xgboost-win64_release_1.4.0/src/learner.cc:1095: Starting in XGBoost 1.3.0, the default evaluation metric used with the objective 'binary:logistic' was changed from 'error' to 'logloss'. Explicitly set eval_metric if you'd like to restore the old behavior.\n",
      "[12:14:49] WARNING: C:/Users/Administrator/workspace/xgboost-win64_release_1.4.0/src/learner.cc:1095: Starting in XGBoost 1.3.0, the default evaluation metric used with the objective 'binary:logistic' was changed from 'error' to 'logloss'. Explicitly set eval_metric if you'd like to restore the old behavior.\n",
      "[12:14:49] WARNING: C:/Users/Administrator/workspace/xgboost-win64_release_1.4.0/src/learner.cc:1095: Starting in XGBoost 1.3.0, the default evaluation metric used with the objective 'binary:logistic' was changed from 'error' to 'logloss'. Explicitly set eval_metric if you'd like to restore the old behavior.\n",
      "[0.95  0.85  0.9   0.85  0.975]\n",
      "Score: 0.9049999999999999\n",
      "195.64080238342285 ms\n"
     ]
    },
    {
     "name": "stderr",
     "output_type": "stream",
     "text": [
      "C:\\ProgramData\\Anaconda3\\lib\\site-packages\\xgboost\\sklearn.py:1146: UserWarning: The use of label encoder in XGBClassifier is deprecated and will be removed in a future release. To remove this warning, do the following: 1) Pass option use_label_encoder=False when constructing XGBClassifier object; and 2) Encode your labels (y) as integers starting with 0, i.e. 0, 1, 2, ..., [num_class - 1].\n",
      "  warnings.warn(label_encoder_deprecation_msg, UserWarning)\n",
      "C:\\ProgramData\\Anaconda3\\lib\\site-packages\\xgboost\\sklearn.py:1146: UserWarning: The use of label encoder in XGBClassifier is deprecated and will be removed in a future release. To remove this warning, do the following: 1) Pass option use_label_encoder=False when constructing XGBClassifier object; and 2) Encode your labels (y) as integers starting with 0, i.e. 0, 1, 2, ..., [num_class - 1].\n",
      "  warnings.warn(label_encoder_deprecation_msg, UserWarning)\n",
      "C:\\ProgramData\\Anaconda3\\lib\\site-packages\\xgboost\\sklearn.py:1146: UserWarning: The use of label encoder in XGBClassifier is deprecated and will be removed in a future release. To remove this warning, do the following: 1) Pass option use_label_encoder=False when constructing XGBClassifier object; and 2) Encode your labels (y) as integers starting with 0, i.e. 0, 1, 2, ..., [num_class - 1].\n",
      "  warnings.warn(label_encoder_deprecation_msg, UserWarning)\n",
      "C:\\ProgramData\\Anaconda3\\lib\\site-packages\\xgboost\\sklearn.py:1146: UserWarning: The use of label encoder in XGBClassifier is deprecated and will be removed in a future release. To remove this warning, do the following: 1) Pass option use_label_encoder=False when constructing XGBClassifier object; and 2) Encode your labels (y) as integers starting with 0, i.e. 0, 1, 2, ..., [num_class - 1].\n",
      "  warnings.warn(label_encoder_deprecation_msg, UserWarning)\n",
      "C:\\ProgramData\\Anaconda3\\lib\\site-packages\\xgboost\\sklearn.py:1146: UserWarning: The use of label encoder in XGBClassifier is deprecated and will be removed in a future release. To remove this warning, do the following: 1) Pass option use_label_encoder=False when constructing XGBClassifier object; and 2) Encode your labels (y) as integers starting with 0, i.e. 0, 1, 2, ..., [num_class - 1].\n",
      "  warnings.warn(label_encoder_deprecation_msg, UserWarning)\n"
     ]
    }
   ],
   "source": [
    "#XGBOOST\n",
    "start_time=time.time()\n",
    "xg_score = cross_val_score(xgb.XGBClassifier(n_estimators=30, gamma=2),features, labels)\n",
    "print(xg_score)\n",
    "print(\"Score:\",np.average(xg_score))\n",
    "\n",
    "finish_time=time.time()\n",
    "time_taken=finish_time-start_time\n",
    "print(time_taken*1000,\"ms\")"
   ]
  },
  {
   "cell_type": "code",
   "execution_count": 23,
   "id": "135adb06",
   "metadata": {},
   "outputs": [
    {
     "name": "stdout",
     "output_type": "stream",
     "text": [
      "[0.85 0.85 0.85 0.8  0.8 ]\n",
      "Score: 0.8299999999999998\n",
      "89.00642395019531 ms\n"
     ]
    }
   ],
   "source": [
    "#Logistic regression\n",
    "start_time=time.time()\n",
    "lr_score = cross_val_score(LogisticRegression(C=1),features, labels)\n",
    "print(lr_score)\n",
    "print(\"Score:\",np.average(lr_score))\n",
    "\n",
    "finish_time=time.time()\n",
    "time_taken=finish_time-start_time\n",
    "print(time_taken*1000,\"ms\")"
   ]
  },
  {
   "cell_type": "code",
   "execution_count": 25,
   "id": "82419c03",
   "metadata": {},
   "outputs": [
    {
     "name": "stdout",
     "output_type": "stream",
     "text": [
      "[0.875 0.725 0.825 0.85  0.925]\n",
      "Score: 0.8400000000000001\n",
      "38.51461410522461 ms\n"
     ]
    }
   ],
   "source": [
    "#Decision Tree\n",
    "start_time=time.time()\n",
    "dt_score = cross_val_score(DecisionTreeClassifier(),features, labels)\n",
    "print(dt_score)\n",
    "print(\"Score:\",np.average(dt_score))\n",
    "\n",
    "finish_time=time.time()\n",
    "time_taken=finish_time-start_time\n",
    "print(time_taken*1000,\"ms\")"
   ]
  },
  {
   "cell_type": "code",
   "execution_count": 26,
   "id": "dad69f50",
   "metadata": {},
   "outputs": [
    {
     "name": "stdout",
     "output_type": "stream",
     "text": [
      "[0.925 0.85  0.925 0.85  0.925]\n",
      "Score: 0.8950000000000001\n",
      "290.9090518951416 ms\n"
     ]
    }
   ],
   "source": [
    "#RandomForest\n",
    "start_time=time.time()\n",
    "rf_score = cross_val_score(RandomForestClassifier(n_estimators=30, random_state=50),features, labels)\n",
    "print(rf_score)\n",
    "print(\"Score:\",np.average(rf_score))\n",
    "\n",
    "finish_time=time.time()\n",
    "time_taken=finish_time-start_time\n",
    "print(time_taken*1000,\"ms\")"
   ]
  },
  {
   "cell_type": "code",
   "execution_count": 27,
   "id": "59a91784",
   "metadata": {},
   "outputs": [
    {
     "name": "stdout",
     "output_type": "stream",
     "text": [
      "[0.825 0.825 0.825 0.825 0.825]\n",
      "Score: 0.825\n",
      "43.039798736572266 ms\n"
     ]
    }
   ],
   "source": [
    "#SVM\n",
    "start_time=time.time()\n",
    "svm_score = cross_val_score(SVC(C=2, kernel='poly'),features, labels)\n",
    "print(svm_score)\n",
    "print(\"Score:\",np.average(svm_score))\n",
    "\n",
    "finish_time=time.time()\n",
    "time_taken=finish_time-start_time\n",
    "print(time_taken*1000,\"ms\")"
   ]
  },
  {
   "cell_type": "code",
   "execution_count": 29,
   "id": "67311f16",
   "metadata": {},
   "outputs": [
    {
     "name": "stdout",
     "output_type": "stream",
     "text": [
      "[0.775 0.85  0.825 0.75  0.8  ]\n",
      "Score: 0.8\n",
      "32.53674507141113 ms\n"
     ]
    }
   ],
   "source": [
    "#Multinomial NB\n",
    "start_time=time.time()\n",
    "mnb_score = cross_val_score(MultinomialNB(),features, labels)\n",
    "print(mnb_score)\n",
    "print(\"Score:\",np.average(mnb_score))\n",
    "\n",
    "finish_time=time.time()\n",
    "time_taken=finish_time-start_time\n",
    "print(time_taken*1000,\"ms\")"
   ]
  },
  {
   "cell_type": "code",
   "execution_count": 30,
   "id": "da6ac7a3",
   "metadata": {},
   "outputs": [
    {
     "name": "stdout",
     "output_type": "stream",
     "text": [
      "[0.6   0.725 0.775 0.75  0.775]\n",
      "Score: 0.725\n",
      "32.51814842224121 ms\n"
     ]
    }
   ],
   "source": [
    "#Gaussian NB\n",
    "start_time=time.time()\n",
    "gnb_score = cross_val_score(GaussianNB(),features, labels)\n",
    "print(gnb_score)\n",
    "print(\"Score:\",np.average(gnb_score))\n",
    "\n",
    "finish_time=time.time()\n",
    "time_taken=finish_time-start_time\n",
    "print(time_taken*1000,\"ms\")"
   ]
  },
  {
   "cell_type": "code",
   "execution_count": 33,
   "id": "c1d8f0a4",
   "metadata": {},
   "outputs": [
    {
     "name": "stdout",
     "output_type": "stream",
     "text": [
      "[0.825 0.825 0.825 0.825 0.825]\n",
      "Score: 0.825\n",
      "44.51918601989746 ms\n"
     ]
    }
   ],
   "source": [
    "#Ridge\n",
    "start_time=time.time()\n",
    "rg_score = cross_val_score(RidgeClassifier(alpha=2),features, labels)\n",
    "print(rg_score)\n",
    "print(\"Score:\",np.average(rg_score))\n",
    "\n",
    "finish_time=time.time()\n",
    "time_taken=finish_time-start_time\n",
    "print(time_taken*1000,\"ms\")"
   ]
  },
  {
   "cell_type": "code",
   "execution_count": null,
   "id": "6f06e6eb",
   "metadata": {},
   "outputs": [],
   "source": []
  },
  {
   "cell_type": "code",
   "execution_count": null,
   "id": "16e6d6ba",
   "metadata": {},
   "outputs": [],
   "source": []
  },
  {
   "cell_type": "code",
   "execution_count": null,
   "id": "4b1d3120",
   "metadata": {},
   "outputs": [],
   "source": []
  }
 ],
 "metadata": {
  "kernelspec": {
   "display_name": "Python 3",
   "language": "python",
   "name": "python3"
  },
  "language_info": {
   "codemirror_mode": {
    "name": "ipython",
    "version": 3
   },
   "file_extension": ".py",
   "mimetype": "text/x-python",
   "name": "python",
   "nbconvert_exporter": "python",
   "pygments_lexer": "ipython3",
   "version": "3.8.8"
  }
 },
 "nbformat": 4,
 "nbformat_minor": 5
}
